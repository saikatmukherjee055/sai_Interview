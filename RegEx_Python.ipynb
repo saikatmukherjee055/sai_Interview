{
 "cells": [
  {
   "cell_type": "code",
   "execution_count": 1,
   "id": "28ec78c7-0b30-45f9-a6ff-72c4573bd9e0",
   "metadata": {},
   "outputs": [
    {
     "name": "stdout",
     "output_type": "stream",
     "text": [
      "Extracted Emails: ['su6+-pp%ort@example.com', 'sale_s@company.com']\n"
     ]
    }
   ],
   "source": [
    "\"\"\"\n",
    "Question: Write a Python program to extract all valid email addresses from a given string.\n",
    "\"\"\"\n",
    "import re\n",
    "\n",
    "text = \"Contact us at su6+-pp%ort@example.com or sale_s@company.com for assistance.\"\n",
    "emails = re.findall(r'[a-zA-Z0-9._%+-]+@[a-zA-Z0-9.-]+\\.[a-zA-Z]{2,}', text)\n",
    "\n",
    "print(\"Extracted Emails:\", emails)"
   ]
  },
  {
   "cell_type": "code",
   "execution_count": 2,
   "id": "29779765-47ec-40d4-ab2c-3ea85ed5f5c1",
   "metadata": {},
   "outputs": [
    {
     "name": "stdout",
     "output_type": "stream",
     "text": [
      "1234567890: True\n",
      "123-456-7890: False\n",
      "987654321: False\n"
     ]
    }
   ],
   "source": [
    "\"\"\"\n",
    "Question: Write a Python program to validate if a given string is a valid 10-digit phone number.\n",
    "\"\"\"\n",
    "import re\n",
    "\n",
    "def validate_phone_number(number):\n",
    "    pattern = r'^\\d{10}$'\n",
    "    return bool(re.match(pattern, number))\n",
    "\n",
    "phone_numbers = [\"1234567890\", \"123-456-7890\", \"987654321\"]\n",
    "for num in phone_numbers:\n",
    "    print(f\"{num}: {validate_phone_number(num)}\")"
   ]
  },
  {
   "cell_type": "code",
   "execution_count": 3,
   "id": "ffbc17f3-d202-4eda-80be-89d3db986f81",
   "metadata": {},
   "outputs": [
    {
     "name": "stdout",
     "output_type": "stream",
     "text": [
      "Extracted Dates: ['2023-10-25', '2024-01-01']\n"
     ]
    }
   ],
   "source": [
    "\"\"\"\n",
    "Question: Write a Python program to extract dates in the format `YYYY-MM-DD` from a string.\n",
    "\"\"\"\n",
    "import re\n",
    "\n",
    "text = \"The event is scheduled for 2023-10-25 and 2024-01-01.\"\n",
    "dates = re.findall(r'\\d{4}-\\d{2}-\\d{2}', text)\n",
    "\n",
    "print(\"Extracted Dates:\", dates)"
   ]
  },
  {
   "cell_type": "code",
   "execution_count": 4,
   "id": "aeb59ad9-e4e8-4fa0-9708-9ec02a832292",
   "metadata": {},
   "outputs": [
    {
     "name": "stdout",
     "output_type": "stream",
     "text": [
      "Cleaned Text: This is a string with multiple spaces.\n"
     ]
    }
   ],
   "source": [
    "\"\"\"\n",
    "Question: Write a Python program to replace multiple spaces in a string with a single space.\n",
    "\"\"\"\n",
    "import re\n",
    "\n",
    "text = \"This   is    a   string    with    multiple   spaces.\"\n",
    "cleaned_text = re.sub(r'\\s+', ' ', text)\n",
    "\n",
    "print(\"Cleaned Text:\", cleaned_text)"
   ]
  },
  {
   "cell_type": "code",
   "execution_count": 5,
   "id": "8a243b73-cd24-4294-996c-b73923bd2a1d",
   "metadata": {},
   "outputs": [
    {
     "name": "stdout",
     "output_type": "stream",
     "text": [
      "Extracted Hashtags: ['#Python', '#regex', '#LearnPython']\n"
     ]
    }
   ],
   "source": [
    "\"\"\"\n",
    "Question: Write a Python program to extract all hashtags from a given string.\n",
    "\"\"\"\n",
    "import re\n",
    "\n",
    "text = \"This is a #Python #regex example. #LearnPython\"\n",
    "hashtags = re.findall(r'#\\w+', text)\n",
    "\n",
    "print(\"Extracted Hashtags:\", hashtags)"
   ]
  },
  {
   "cell_type": "code",
   "execution_count": 6,
   "id": "92bc9c9e-5a08-4dd9-bcfd-7d1416391fb4",
   "metadata": {},
   "outputs": [
    {
     "name": "stdout",
     "output_type": "stream",
     "text": [
      "Password1!: True\n",
      "weak: False\n",
      "StrongPass123: False\n",
      "NoSpecialChar123: False\n"
     ]
    }
   ],
   "source": [
    "\"\"\"\n",
    "Question: Write a Python program to validate a password. The password must:\n",
    "- Be at least 8 characters long.\n",
    "- Contain at least one uppercase letter.\n",
    "- Contain at least one lowercase letter.\n",
    "- Contain at least one digit.\n",
    "- Contain at least one special character (`@$!%*?&`).\n",
    "\"\"\"\n",
    "import re\n",
    "\n",
    "def validate_password(password):\n",
    "    pattern = r'^(?=.*[A-Z])(?=.*[a-z])(?=.*\\d)(?=.*[@$!%*?&])[A-Za-z\\d@$!%*?&]{8,}$'\n",
    "    return bool(re.match(pattern, password))\n",
    "\n",
    "passwords = [\"Password1!\", \"weak\", \"StrongPass123\", \"NoSpecialChar123\"]\n",
    "for pwd in passwords:\n",
    "    print(f\"{pwd}: {validate_password(pwd)}\")"
   ]
  },
  {
   "cell_type": "code",
   "execution_count": 7,
   "id": "f8f46c14-7fcd-4f56-8394-e23c0fab9e46",
   "metadata": {},
   "outputs": [
    {
     "name": "stdout",
     "output_type": "stream",
     "text": [
      "Extracted URLs: ['https://example.com', 'http://www.google.com']\n"
     ]
    }
   ],
   "source": [
    "\"\"\"\n",
    "Question: Write a Python program to extract all URLs from a given string.\n",
    "\"\"\"\n",
    "import re\n",
    "\n",
    "text = \"Visit https://example.com or http://www.google.com for more info.\"\n",
    "urls = re.findall(r'https?://[^\\s]+', text)\n",
    "\n",
    "print(\"Extracted URLs:\", urls)"
   ]
  },
  {
   "cell_type": "code",
   "execution_count": 8,
   "id": "f48304a3-df48-4635-9b53-d7f4fe227df8",
   "metadata": {},
   "outputs": [
    {
     "name": "stdout",
     "output_type": "stream",
     "text": [
      "Split Words: ['apple', 'banana', 'orange', 'mango']\n"
     ]
    }
   ],
   "source": [
    "\"\"\"\n",
    "Question: Write a Python program to split a string by multiple delimiters (e.g., spaces, commas, and semicolons).\n",
    "\"\"\"\n",
    "import re\n",
    "\n",
    "text = \"apple,banana;orange mango\"\n",
    "words = re.split(r'[ ,;]+', text)\n",
    "\n",
    "print(\"Split Words:\", words)"
   ]
  },
  {
   "cell_type": "code",
   "execution_count": 9,
   "id": "70592bfd-3b7a-4b0c-a821-67c17783c6d6",
   "metadata": {},
   "outputs": [
    {
     "name": "stdout",
     "output_type": "stream",
     "text": [
      "abc123xyz: True\n",
      "abcxyz: True\n",
      "abc123: False\n",
      "123xyz: False\n"
     ]
    }
   ],
   "source": [
    "\"\"\"\n",
    "Question: Write a Python program to check if a string starts with `abc` and ends with `xyz`.\n",
    "\"\"\"\n",
    "import re\n",
    "\n",
    "def match_prefix_suffix(text):\n",
    "    pattern = r'^abc.*xyz$'\n",
    "    return bool(re.match(pattern, text))\n",
    "\n",
    "strings = [\"abc123xyz\", \"abcxyz\", \"abc123\", \"123xyz\"]\n",
    "for s in strings:\n",
    "    print(f\"{s}: {match_prefix_suffix(s)}\")"
   ]
  },
  {
   "cell_type": "code",
   "execution_count": 10,
   "id": "e038c494-355c-4746-aafd-51e12a3ee2ac",
   "metadata": {},
   "outputs": [
    {
     "name": "stdout",
     "output_type": "stream",
     "text": [
      "Words starting with 'P': ['Python', 'powerful', 'programming', 'Perl', 'popular']\n"
     ]
    }
   ],
   "source": [
    "\"\"\"\n",
    "Question: Write a Python program to extract all words starting with the letter `P` (case-insensitive) from a string.\n",
    "\"\"\"\n",
    "import re\n",
    "\n",
    "text = \"Python is a powerful programming language. Perl is also popular.\"\n",
    "words = re.findall(r'\\bP\\w+', text, re.IGNORECASE)\n",
    "\n",
    "print(\"Words starting with 'P':\", words)"
   ]
  },
  {
   "cell_type": "code",
   "execution_count": 11,
   "id": "618b0693-43ae-44cc-83ba-7b0357376b69",
   "metadata": {},
   "outputs": [
    {
     "name": "stdout",
     "output_type": "stream",
     "text": [
      "Extracted Keys: ['name', 'address', 'city', 'zip']\n"
     ]
    }
   ],
   "source": [
    "\"\"\"\n",
    "Question: Write a Python program to extract all keys from a nested JSON-like string using regex.\n",
    "Example Input: '{\"name\": \"John\", \"address\": {\"city\": \"New York\", \"zip\": \"10001\"}}'\n",
    "Expected Output: ['name', 'address', 'city', 'zip']\n",
    "\"\"\"\n",
    "import re\n",
    "\n",
    "text = '{\"name\": \"John\", \"address\": {\"city\": \"New York\", \"zip\": \"10001\"}}'\n",
    "keys = re.findall(r'\"(\\w+)\"\\s*:', text)\n",
    "\n",
    "print(\"Extracted Keys:\", keys)"
   ]
  },
  {
   "cell_type": "code",
   "execution_count": 12,
   "id": "214401a9-7cfd-425b-9476-6dc698a9d398",
   "metadata": {},
   "outputs": [
    {
     "name": "stdout",
     "output_type": "stream",
     "text": [
      "192.168.1.1: True\n",
      "256.1.1.1: False\n",
      "127.0.0.1: True\n",
      "0.0.0.0: True\n"
     ]
    }
   ],
   "source": [
    "\"\"\"\n",
    "Question: Write a Python program to validate if a given string is a valid IPv4 address.\n",
    "A valid IPv4 address consists of four numbers (0-255) separated by dots.\n",
    "\"\"\"\n",
    "import re\n",
    "\n",
    "def validate_ipv4(ip):\n",
    "    pattern = r'^((25[0-5]|2[0-4][0-9]|1[0-9]{2}|[1-9]?[0-9])\\.){3}(25[0-5]|2[0-4][0-9]|1[0-9]{2}|[1-9]?[0-9])$'\n",
    "    return bool(re.match(pattern, ip))\n",
    "\n",
    "ips = [\"192.168.1.1\", \"256.1.1.1\", \"127.0.0.1\", \"0.0.0.0\"]\n",
    "for ip in ips:\n",
    "    print(f\"{ip}: {validate_ipv4(ip)}\")"
   ]
  },
  {
   "cell_type": "code",
   "execution_count": 13,
   "id": "f2862565-e4b4-43e0-9679-c21df16d9d23",
   "metadata": {},
   "outputs": [
    {
     "name": "stdout",
     "output_type": "stream",
     "text": [
      "Extracted Numbers with Units: ['10kg', '5.5m', '100USD']\n"
     ]
    }
   ],
   "source": [
    "\"\"\"\n",
    "Question: Write a Python program to extract all numbers with units (e.g., 10kg, 5.5m, 100USD) from a string.\n",
    "\"\"\"\n",
    "import re\n",
    "\n",
    "text = \"I bought 10kg of rice, 5.5m of cloth, and paid 100USD.\"\n",
    "matches = re.findall(r'\\d+\\.?\\d*\\s*(?:kg|m|USD)', text)\n",
    "\n",
    "print(\"Extracted Numbers with Units:\", matches)"
   ]
  },
  {
   "cell_type": "code",
   "execution_count": 14,
   "id": "c96ac4b4-13aa-4ece-8be9-4fed29face82",
   "metadata": {},
   "outputs": [
    {
     "name": "stdout",
     "output_type": "stream",
     "text": [
      "XII: True\n",
      "MMXXIII: True\n",
      "IIII: False\n",
      "MCMLXXXIV: True\n",
      "ABC: False\n"
     ]
    }
   ],
   "source": [
    "\"\"\"\n",
    "Question: Write a Python program to validate if a given string is a valid Roman numeral.\n",
    "Roman numerals are represented by the following characters: I, V, X, L, C, D, M.\n",
    "\"\"\"\n",
    "import re\n",
    "\n",
    "def validate_roman_numeral(roman):\n",
    "    pattern = r'^M{0,3}(CM|CD|D?C{0,3})(XC|XL|L?X{0,3})(IX|IV|V?I{0,3})$'\n",
    "    return bool(re.match(pattern, roman))\n",
    "\n",
    "numerals = [\"XII\", \"MMXXIII\", \"IIII\", \"MCMLXXXIV\", \"ABC\"]\n",
    "for numeral in numerals:\n",
    "    print(f\"{numeral}: {validate_roman_numeral(numeral)}\")"
   ]
  },
  {
   "cell_type": "code",
   "execution_count": 15,
   "id": "76ead3c2-61ee-402a-a487-267cdcd3f714",
   "metadata": {},
   "outputs": [
    {
     "name": "stdout",
     "output_type": "stream",
     "text": [
      "Extracted HTML Tags: ['<div>', '<p>', '</p>', '<span>', '</span>', '</div>']\n"
     ]
    }
   ],
   "source": [
    "\"\"\"\n",
    "Question: Write a Python program to extract all nested HTML tags from a string.\n",
    "Example Input: '<div><p>Hello</p><span>World</span></div>'\n",
    "Expected Output: ['<div>', '<p>', '</p>', '<span>', '</span>', '</div>']\n",
    "\"\"\"\n",
    "import re\n",
    "\n",
    "text = '<div><p>Hello</p><span>World</span></div>'\n",
    "tags = re.findall(r'<[^>]+>', text)\n",
    "\n",
    "print(\"Extracted HTML Tags:\", tags)"
   ]
  },
  {
   "cell_type": "code",
   "execution_count": 16,
   "id": "201069f3-f969-4a78-9054-375ea49de427",
   "metadata": {},
   "outputs": [
    {
     "name": "stdout",
     "output_type": "stream",
     "text": [
      "4123456789123456: True\n",
      "5123-4567-8912-3456: True\n",
      "61234-567-8912-3456: False\n",
      "4123356789123456: True\n"
     ]
    }
   ],
   "source": [
    "\"\"\"\n",
    "Question: Write a Python program to validate if a given string is a valid credit card number.\n",
    "A valid credit card number must:\n",
    "- Start with 4, 5, or 6.\n",
    "- Be 16 digits long.\n",
    "- May have hyphens after every 4 digits.\n",
    "\"\"\"\n",
    "import re\n",
    "\n",
    "def validate_credit_card(number):\n",
    "    pattern = r'^[456]\\d{3}(-?\\d{4}){3}$'\n",
    "    return bool(re.match(pattern, number)) and len(number.replace(\"-\", \"\")) == 16\n",
    "\n",
    "cards = [\"4123456789123456\", \"5123-4567-8912-3456\", \"61234-567-8912-3456\", \"4123356789123456\"]\n",
    "for card in cards:\n",
    "    print(f\"{card}: {validate_credit_card(card)}\")"
   ]
  },
  {
   "cell_type": "code",
   "execution_count": 17,
   "id": "70291397-4da3-4a91-b872-0a2bb1c4f9f0",
   "metadata": {},
   "outputs": [
    {
     "name": "stdout",
     "output_type": "stream",
     "text": [
      "Words with all vowels exactly once: []\n"
     ]
    }
   ],
   "source": [
    "\"\"\"\n",
    "Question: Write a Python program to extract all words from a string that contain all vowels (a, e, i, o, u) exactly once.\n",
    "\"\"\"\n",
    "import re\n",
    "\n",
    "text = \"The quick brown fox jumps over the lazy dog. A eulogy for the unique.\"\n",
    "words = re.findall(r'\\b\\w+\\b', text)\n",
    "result = [word for word in words if len(set(re.findall(r'[aeiou]', word.lower()))) == 5]\n",
    "\n",
    "print(\"Words with all vowels exactly once:\", result)"
   ]
  },
  {
   "cell_type": "code",
   "execution_count": 18,
   "id": "539d3fe5-0cf2-4457-b1bc-7af153f9e50f",
   "metadata": {},
   "outputs": [
    {
     "name": "stdout",
     "output_type": "stream",
     "text": [
      "00:1A:2B:3C:4D:5E: True\n",
      "00-1A-2B-3C-4D-5E: True\n",
      "001A2B3C4D5E: False\n",
      "00:1A:2B:3C:4D:5G: False\n"
     ]
    }
   ],
   "source": [
    "\"\"\"\n",
    "Question: Write a Python program to validate if a given string is a valid MAC address.\n",
    "A valid MAC address consists of 6 pairs of hexadecimal digits separated by colons or hyphens.\n",
    "\"\"\"\n",
    "import re\n",
    "\n",
    "def validate_mac_address(mac):\n",
    "    pattern = r'^([0-9A-Fa-f]{2}[:-]){5}([0-9A-Fa-f]{2})$'\n",
    "    return bool(re.match(pattern, mac))\n",
    "\n",
    "macs = [\"00:1A:2B:3C:4D:5E\", \"00-1A-2B-3C-4D-5E\", \"001A2B3C4D5E\", \"00:1A:2B:3C:4D:5G\"]\n",
    "for mac in macs:\n",
    "    print(f\"{mac}: {validate_mac_address(mac)}\")"
   ]
  },
  {
   "cell_type": "code",
   "execution_count": 19,
   "id": "014cebb9-8ee1-40b6-830e-a61c5b331c13",
   "metadata": {},
   "outputs": [
    {
     "name": "stdout",
     "output_type": "stream",
     "text": [
      "Extracted Mathematical Expressions: ['10+5', '3.14*2.', '100/0']\n"
     ]
    }
   ],
   "source": [
    "\"\"\"\n",
    "Question: Write a Python program to extract all valid mathematical expressions (e.g., 10+5, 3.14*2) from a string.\n",
    "\"\"\"\n",
    "import re\n",
    "\n",
    "text = \"Calculate 10+5 and 3.14*2. Also, 100/0 is invalid.\"\n",
    "expressions = re.findall(r'\\d+\\.?\\d*\\s*[\\+\\-\\*/]\\s*\\d+\\.?\\d*', text)\n",
    "\n",
    "print(\"Extracted Mathematical Expressions:\", expressions)"
   ]
  },
  {
   "cell_type": "code",
   "execution_count": 20,
   "id": "6ae469fa-ffb5-413f-a2c8-579dbd5a7d55",
   "metadata": {},
   "outputs": [
    {
     "name": "stdout",
     "output_type": "stream",
     "text": [
      "https://example.com?name=John: True\n",
      "http://example.com: False\n",
      "ftp://example.com?query=test: False\n",
      "https://example.com/path?key=value: True\n"
     ]
    }
   ],
   "source": [
    "\"\"\"\n",
    "Question: Write a Python program to validate if a given string is a valid URL with query parameters.\n",
    "A valid URL must start with http or https and contain query parameters (e.g., ?key=value).\n",
    "\"\"\"\n",
    "import re\n",
    "\n",
    "def validate_url(url):\n",
    "    pattern = r'^https?://[^\\s]+?\\?[^\\s]+$'\n",
    "    return bool(re.match(pattern, url))\n",
    "\n",
    "urls = [\n",
    "    \"https://example.com?name=John\",\n",
    "    \"http://example.com\",\n",
    "    \"ftp://example.com?query=test\",\n",
    "    \"https://example.com/path?key=value\"\n",
    "]\n",
    "for url in urls:\n",
    "    print(f\"{url}: {validate_url(url)}\")"
   ]
  },
  {
   "cell_type": "code",
   "execution_count": 21,
   "id": "6aabdab3-17dd-4eae-8e4e-e57ed112d992",
   "metadata": {},
   "outputs": [
    {
     "name": "stdout",
     "output_type": "stream",
     "text": [
      "This is an **important** announcement about an **important** topic.\n"
     ]
    }
   ],
   "source": [
    "import re\n",
    "\n",
    "text = \"This is an important announcement about an important topic.\"\n",
    "pattern = r'\\bimportant\\b'\n",
    "\n",
    "highlighted_text = re.sub(pattern, '**important**', text)\n",
    "print(highlighted_text)\n",
    "# Output: This is an **important** announcement about an **important** topic.\n"
   ]
  },
  {
   "cell_type": "code",
   "execution_count": 22,
   "id": "e4afa567-a4a7-4307-92d5-5e18b2b341e0",
   "metadata": {},
   "outputs": [
    {
     "name": "stdout",
     "output_type": "stream",
     "text": [
      "Strong password\n"
     ]
    }
   ],
   "source": [
    "import re\n",
    "\n",
    "password = \"StrongP@ss123\"\n",
    "pattern = r'^(?=.*[A-Z])(?=.*[a-z])(?=.*\\d)(?=.*[@$!%*?&])[A-Za-z\\d@$!%*?&]{8,}$'\n",
    "\n",
    "if re.match(pattern, password):\n",
    "    print(\"Strong password\")  # Output: Strong password\n",
    "else:\n",
    "    print(\"Weak password\")\n"
   ]
  },
  {
   "cell_type": "code",
   "execution_count": 23,
   "id": "862bad5a-0a3d-4540-a7d4-7fa514b0d291",
   "metadata": {},
   "outputs": [
    {
     "name": "stdout",
     "output_type": "stream",
     "text": [
      "8\n"
     ]
    }
   ],
   "source": [
    "import re\n",
    "\n",
    "text = \"Count the number of words in this sentence.\"\n",
    "pattern = r'\\b\\w+\\b'\n",
    "\n",
    "words = re.findall(pattern, text)\n",
    "print(len(words))  # Output: 8\n"
   ]
  },
  {
   "cell_type": "code",
   "execution_count": 24,
   "id": "ef3cf416-f35b-4552-add6-2013b7b53dc7",
   "metadata": {},
   "outputs": [
    {
     "name": "stdout",
     "output_type": "stream",
     "text": [
      "['example.com', 'test.org', 'website.net']\n"
     ]
    }
   ],
   "source": [
    "import re\n",
    "\n",
    "urls = [\"https://example.com\", \"http://test.org\", \"www.website.net\"]\n",
    "pattern = r'https?://(?:www\\.)?([\\w.-]+)|www\\.([\\w.-]+)'\n",
    "\n",
    "domains = [match[0] or match[1] for match in re.findall(pattern, \" \".join(urls))]\n",
    "print(domains)  # Output: ['example.com', 'test.org', 'website.net']\n"
   ]
  },
  {
   "cell_type": "code",
   "execution_count": 25,
   "id": "fe332646-8882-4ede-ae47-e94f1e1098e8",
   "metadata": {},
   "outputs": [
    {
     "name": "stdout",
     "output_type": "stream",
     "text": [
      "['AB', 'AB', 'AB', 'AB']\n"
     ]
    }
   ],
   "source": [
    "import re\n",
    "\n",
    "text = \"ABABABAB\"\n",
    "pattern = r'(?=(AB))'\n",
    "\n",
    "matches = re.findall(pattern, text)\n",
    "print(matches)  # Output: ['AB', 'AB', 'AB', 'AB']\n"
   ]
  },
  {
   "cell_type": "code",
   "execution_count": 26,
   "id": "c7db0d8d-4b16-4dbc-8e27-3b80476af04a",
   "metadata": {},
   "outputs": [
    {
     "name": "stdout",
     "output_type": "stream",
     "text": [
      "Hello World This is a test 123\n"
     ]
    }
   ],
   "source": [
    "import re\n",
    "\n",
    "text = \"Hello @World! This is a test #123.\"\n",
    "pattern = r'[^a-zA-Z0-9 ]'\n",
    "\n",
    "clean_text = re.sub(pattern, '', text)\n",
    "print(clean_text)  # Output: Hello World This is a test 123\n"
   ]
  },
  {
   "cell_type": "code",
   "execution_count": 27,
   "id": "8af4b8fa-59be-429e-9c54-695cd93291f6",
   "metadata": {},
   "outputs": [
    {
     "name": "stdout",
     "output_type": "stream",
     "text": [
      "Matched\n"
     ]
    }
   ],
   "source": [
    "import re\n",
    "\n",
    "text = \"Hello everyone, Welcome to the World\"\n",
    "pattern = r'^Hello.*World$'\n",
    "\n",
    "if re.match(pattern, text):\n",
    "    print(\"Matched\")  # Output: Matched\n",
    "else:\n",
    "    print(\"Not matched\")\n"
   ]
  },
  {
   "cell_type": "code",
   "execution_count": 28,
   "id": "44de834a-c088-4b14-8eee-ac7dbad429f5",
   "metadata": {},
   "outputs": [
    {
     "name": "stdout",
     "output_type": "stream",
     "text": [
      "['27-01-2025', '28/01/2025']\n"
     ]
    }
   ],
   "source": [
    "import re\n",
    "\n",
    "text = \"Today's date is 27-01-2025 and tomorrow's date is 28/01/2025.\"\n",
    "pattern = r'\\b\\d{2}[-/]\\d{2}[-/]\\d{4}\\b'\n",
    "\n",
    "dates = re.findall(pattern, text)\n",
    "print(dates)  # Output: ['27-01-2025', '28/01/2025']\n"
   ]
  },
  {
   "cell_type": "code",
   "execution_count": 29,
   "id": "79bb0f53-830a-4055-b55e-3aa08ef08236",
   "metadata": {},
   "outputs": [
    {
     "name": "stdout",
     "output_type": "stream",
     "text": [
      "['apple', 'orange', 'banana', 'grape']\n"
     ]
    }
   ],
   "source": [
    "import re\n",
    "\n",
    "text = \"apple, orange; banana grape\"\n",
    "pattern = r'[;, ]+'\n",
    "\n",
    "fruits = re.split(pattern, text)\n",
    "print(fruits)  # Output: ['apple', 'orange', 'banana', 'grape']\n"
   ]
  },
  {
   "cell_type": "code",
   "execution_count": 30,
   "id": "01cdf6f6-b80b-4c55-bb0c-2e3989cc401b",
   "metadata": {},
   "outputs": [
    {
     "name": "stdout",
     "output_type": "stream",
     "text": [
      "['#sunny', '#beautifulday', '#happy']\n"
     ]
    }
   ],
   "source": [
    "import re\n",
    "\n",
    "text = \"Loving the weather today! #sunny #beautifulday #happy\"\n",
    "pattern = r'#\\w+'\n",
    "\n",
    "hashtags = re.findall(pattern, text)\n",
    "print(hashtags)  # Output: ['#sunny', '#beautifulday', '#happy']\n"
   ]
  },
  {
   "cell_type": "code",
   "execution_count": 31,
   "id": "f59e40d9-7c39-4ba7-8dd7-ade60050ba3b",
   "metadata": {},
   "outputs": [
    {
     "name": "stdout",
     "output_type": "stream",
     "text": [
      "Valid phone number\n"
     ]
    }
   ],
   "source": [
    "import re\n",
    "\n",
    "phone = \"(123)-456-7890\"\n",
    "pattern = r'^(\\(\\d{3}\\)|\\d{3})[- ]?\\d{3}[- ]?\\d{4}$'\n",
    "\n",
    "match = re.match(pattern, phone)\n",
    "if match:\n",
    "    print(\"Valid phone number\")  # Output: Valid phone number\n",
    "else:\n",
    "    print(\"Invalid phone number\")\n"
   ]
  },
  {
   "cell_type": "code",
   "execution_count": 32,
   "id": "76095b0a-8be1-4861-8707-7ab20cdf7416",
   "metadata": {},
   "outputs": [
    {
     "name": "stdout",
     "output_type": "stream",
     "text": [
      "['support@example.com', 'sales@company.org']\n"
     ]
    }
   ],
   "source": [
    "import re\n",
    "\n",
    "text = \"Contact us at support@example.com or sales@company.org for more details.\"\n",
    "pattern = r'[a-zA-Z0-9._%+-]+@[a-zA-Z0-9.-]+\\.[a-zA-Z]{2,}'\n",
    "\n",
    "emails = re.findall(pattern, text)\n",
    "print(emails)  # Output: ['support@example.com', 'sales@company.org']\n"
   ]
  },
  {
   "cell_type": "code",
   "execution_count": 33,
   "id": "a07050b9-c2bf-4138-81d8-a40d927be2a7",
   "metadata": {},
   "outputs": [
    {
     "name": "stdout",
     "output_type": "stream",
     "text": [
      "Palindromic Words: ['Madam', 'I', 'm', 'Racecar', 'a']\n"
     ]
    }
   ],
   "source": [
    "\"\"\"\n",
    "Question: Write a Python program to extract all palindromic words from a string using regex.\n",
    "A palindromic word reads the same backward as forward (e.g., \"madam\").\n",
    "\"\"\"\n",
    "import re\n",
    "\n",
    "text = \"Madam, in Eden, I'm Adam. Racecar is a palindrome.\"\n",
    "words = re.findall(r'\\b\\w+\\b', text)\n",
    "palindromes = [word for word in words if word.lower() == word.lower()[::-1]]\n",
    "\n",
    "print(\"Palindromic Words:\", palindromes)"
   ]
  },
  {
   "cell_type": "code",
   "execution_count": 34,
   "id": "5cd46eb5-292b-47d6-a8f6-916b82103c6a",
   "metadata": {},
   "outputs": [
    {
     "name": "stdout",
     "output_type": "stream",
     "text": [
      "Repeated Words: ['the', 'dog']\n"
     ]
    }
   ],
   "source": [
    "\"\"\"\n",
    "Question: Write a Python program to extract all repeated words from a string using regex.\n",
    "Example Input: \"The quick brown fox jumps over the lazy dog. The dog was not amused.\"\n",
    "Expected Output: ['the', 'dog']\n",
    "\"\"\"\n",
    "import re\n",
    "from collections import Counter\n",
    "\n",
    "text = \"The quick brown fox jumps over the lazy dog. The dog was not amused.\"\n",
    "words = re.findall(r'\\b\\w+\\b', text.lower())\n",
    "repeated_words = [word for word, count in Counter(words).items() if count > 1]\n",
    "\n",
    "print(\"Repeated Words:\", repeated_words)"
   ]
  },
  {
   "cell_type": "code",
   "execution_count": 35,
   "id": "b9a640e6-9ec3-4745-bddb-f19cd8bffb2c",
   "metadata": {},
   "outputs": [
    {
     "name": "stdout",
     "output_type": "stream",
     "text": [
      "Words with Alternating Vowels and Consonants: ['banana', 'kiwi']\n"
     ]
    }
   ],
   "source": [
    "\"\"\"\n",
    "Question: Write a Python program to extract all words where vowels and consonants alternate.\n",
    "Example Input: \"Apple banana grapefruit kiwi mango\"\n",
    "Expected Output: ['banana', 'kiwi']\n",
    "\"\"\"\n",
    "import re\n",
    "\n",
    "text = \"Apple banana grapefruit kiwi mango\"\n",
    "words = re.findall(r'\\b\\w+\\b', text)\n",
    "result = [word for word in words if re.match(r'^([aeiou][^aeiou])+[aeiou]?$', word.lower()) or\n",
    "          re.match(r'^([^aeiou][aeiou])+[^aeiou]?$', word.lower())]\n",
    "\n",
    "print(\"Words with Alternating Vowels and Consonants:\", result)"
   ]
  },
  {
   "cell_type": "code",
   "execution_count": 36,
   "id": "c09e3a61-6df7-4829-a2d8-0b718aaa4e5b",
   "metadata": {},
   "outputs": [
    {
     "name": "stdout",
     "output_type": "stream",
     "text": [
      "Words with Double Letters: ['e', 't', 'p', 's']\n"
     ]
    }
   ],
   "source": [
    "\"\"\"\n",
    "Question: Write a Python program to extract all words containing double letters (e.g., \"book\" has double 'o').\n",
    "\"\"\"\n",
    "import re\n",
    "\n",
    "text = \"The bookkeeper found a little apple in the grass.\"\n",
    "words = re.findall(r'\\b\\w*(\\w)\\1\\w*\\b', text)\n",
    "\n",
    "print(\"Words with Double Letters:\", words)"
   ]
  },
  {
   "cell_type": "code",
   "execution_count": 37,
   "id": "31102f0d-f031-4aee-9a59-285580e8eb56",
   "metadata": {},
   "outputs": [
    {
     "name": "stdout",
     "output_type": "stream",
     "text": [
      "Words with Unique Characters: ['Python', 'is', 'a']\n"
     ]
    }
   ],
   "source": [
    "\"\"\"\n",
    "Question: Write a Python program to extract all words where all characters are unique.\n",
    "Example Input: \"Python is a programming language.\"\n",
    "Expected Output: ['Python', 'is', 'a']\n",
    "\"\"\"\n",
    "import re\n",
    "\n",
    "text = \"Python is a programming language.\"\n",
    "words = re.findall(r'\\b\\w+\\b', text)\n",
    "unique_char_words = [word for word in words if len(set(word.lower())) == len(word.lower())]\n",
    "\n",
    "print(\"Words with Unique Characters:\", unique_char_words)"
   ]
  },
  {
   "cell_type": "code",
   "execution_count": 38,
   "id": "5e91409f-5ef5-466e-860a-7e88887488c1",
   "metadata": {},
   "outputs": [
    {
     "name": "stdout",
     "output_type": "stream",
     "text": [
      "Words with 'ing': ['Singing', 'dancing']\n"
     ]
    }
   ],
   "source": [
    "\"\"\"\n",
    "Question: Write a Python program to extract all words containing the sequence \"ing\".\n",
    "\"\"\"\n",
    "import re\n",
    "\n",
    "text = \"Singing and dancing are fun activities.\"\n",
    "words = re.findall(r'\\b\\w*ing\\w*\\b', text)\n",
    "\n",
    "print(\"Words with 'ing':\", words)"
   ]
  },
  {
   "cell_type": "code",
   "execution_count": 39,
   "id": "367e8f6e-af5b-47da-8678-b8cdedf889cb",
   "metadata": {},
   "outputs": [
    {
     "name": "stdout",
     "output_type": "stream",
     "text": [
      "Words with Equal Vowels and Consonants: ['banana', 'kiwi']\n"
     ]
    }
   ],
   "source": [
    "\"\"\"\n",
    "Question: Write a Python program to extract all words with an equal number of vowels and consonants.\n",
    "\"\"\"\n",
    "import re\n",
    "\n",
    "text = \"Apple banana grapefruit kiwi mango\"\n",
    "words = re.findall(r'\\b\\w+\\b', text)\n",
    "result = [word for word in words if len(re.findall(r'[aeiou]', word.lower())) == len(re.findall(r'[^aeiou]', word.lower()))]\n",
    "\n",
    "print(\"Words with Equal Vowels and Consonants:\", result)"
   ]
  },
  {
   "cell_type": "code",
   "execution_count": 40,
   "id": "b509e7ce-d225-4db0-8abb-2659712d08b0",
   "metadata": {},
   "outputs": [
    {
     "name": "stdout",
     "output_type": "stream",
     "text": [
      "Words starting with 'un' and ending with 'ing': []\n"
     ]
    }
   ],
   "source": [
    "\"\"\"\n",
    "Question: Write a Python program to extract all words starting with \"un\" and ending with \"ing\".\n",
    "\"\"\"\n",
    "import re\n",
    "\n",
    "text = \"Understanding regex is fun and rewarding. Unlocking its potential is key.\"\n",
    "words = re.findall(r'\\bun\\w+ing\\b', text)\n",
    "\n",
    "print(\"Words starting with 'un' and ending with 'ing':\", words)"
   ]
  },
  {
   "cell_type": "code",
   "execution_count": 41,
   "id": "3a61f875-650b-431a-a03b-f22fddc2f0d5",
   "metadata": {},
   "outputs": [
    {
     "name": "stdout",
     "output_type": "stream",
     "text": [
      "Words with 'a.e' pattern: ['cake', 'date', 'late']\n"
     ]
    }
   ],
   "source": [
    "\"\"\"\n",
    "Question: Write a Python program to extract all words containing the pattern \"a.e\" (e.g., \"cake\", \"date\").\n",
    "\"\"\"\n",
    "import re\n",
    "\n",
    "text = \"The cake is a lie. The date is set for late April.\"\n",
    "words = re.findall(r'\\b\\w*a.e\\w*\\b', text)\n",
    "\n",
    "print(\"Words with 'a.e' pattern:\", words)"
   ]
  },
  {
   "cell_type": "code",
   "execution_count": 42,
   "id": "c2c79e4b-3e8d-4453-837f-c8a7bf43a030",
   "metadata": {},
   "outputs": [
    {
     "name": "stdout",
     "output_type": "stream",
     "text": [
      "5-letter words with 2 vowels: ['quick']\n"
     ]
    }
   ],
   "source": [
    "\"\"\"\n",
    "Question: Write a Python program to extract all words with exactly 5 letters and 2 vowels.\n",
    "\"\"\"\n",
    "import re\n",
    "\n",
    "text = \"The quick brown fox jumps over the lazy dog.\"\n",
    "words = re.findall(r'\\b\\w{5}\\b', text)\n",
    "result = [word for word in words if len(re.findall(r'[aeiou]', word.lower())) == 2]\n",
    "\n",
    "print(\"5-letter words with 2 vowels:\", result)"
   ]
  },
  {
   "cell_type": "code",
   "execution_count": 43,
   "id": "36079cc9-7b69-4be6-a7b5-3c5fcf82f3cf",
   "metadata": {},
   "outputs": [
    {
     "name": "stdout",
     "output_type": "stream",
     "text": [
      "Words with exactly 2 'a's: ['Avocado']\n"
     ]
    }
   ],
   "source": [
    "\"\"\"\n",
    "Question: Write a Python program to extract all words where the letter 'a' appears exactly twice.\n",
    "\"\"\"\n",
    "import re\n",
    "\n",
    "text = \"Banana is a tropical fruit. Avocado is also a fruit.\"\n",
    "words = re.findall(r'\\b\\w+\\b', text)\n",
    "result = [word for word in words if word.lower().count('a') == 2]\n",
    "\n",
    "print(\"Words with exactly 2 'a's:\", result)"
   ]
  },
  {
   "cell_type": "code",
   "execution_count": 44,
   "id": "c11fa4cf-ad25-447c-8db0-ef184a252654",
   "metadata": {},
   "outputs": [
    {
     "name": "stdout",
     "output_type": "stream",
     "text": [
      "5-letter words containing 'th': []\n"
     ]
    }
   ],
   "source": [
    "\"\"\"\n",
    "Question: Write a Python program to extract all words containing \"th\" and having exactly 5 letters.\n",
    "\"\"\"\n",
    "import re\n",
    "\n",
    "text = \"The theory of everything is fascinating. This is a thought.\"\n",
    "words = re.findall(r'\\b\\w{5}\\b', text)\n",
    "result = [word for word in words if 'th' in word.lower()]\n",
    "\n",
    "print(\"5-letter words containing 'th':\", result)"
   ]
  },
  {
   "cell_type": "code",
   "execution_count": 45,
   "id": "ad096931-3eb5-4f47-ad11-617b8e60991d",
   "metadata": {},
   "outputs": [
    {
     "name": "stdout",
     "output_type": "stream",
     "text": [
      "abcdefgh: False\n",
      "aeiouxyz: False\n",
      "abcde: False\n",
      "aaaaabbb: False\n"
     ]
    }
   ],
   "source": [
    "\"\"\"\n",
    "Question: Write a Python program to match a string with exactly 3 vowels and 5 consonants.\n",
    "Example Input: \"abcdefgh\" or \"aeiouxyz\"\n",
    "Expected Output: True if the string meets the condition, False otherwise.\n",
    "\"\"\"\n",
    "import re\n",
    "\n",
    "def is_valid_string(text):\n",
    "    vowels = len(re.findall(r'[aeiou]', text.lower()))\n",
    "    consonants = len(re.findall(r'[bcdfghjklmnpqrstvwxyz]', text.lower()))\n",
    "    return vowels == 3 and consonants == 5\n",
    "\n",
    "tests = [\"abcdefgh\", \"aeiouxyz\", \"abcde\", \"aaaaabbb\"]\n",
    "for test in tests:\n",
    "    print(f\"{test}: {is_valid_string(test)}\")"
   ]
  },
  {
   "cell_type": "code",
   "execution_count": 46,
   "id": "78ec51e3-e661-4725-845c-e4b45e656827",
   "metadata": {},
   "outputs": [
    {
     "name": "stdout",
     "output_type": "stream",
     "text": [
      "abcba: True\n",
      "12321: True\n",
      "abccba: False\n",
      "12345: False\n"
     ]
    }
   ],
   "source": [
    "\"\"\"\n",
    "Question: Write a Python program to match a string that is a palindrome of length 5.\n",
    "Example Input: \"abcba\" or \"12321\"\n",
    "Expected Output: True if the string is a 5-character palindrome, False otherwise.\n",
    "\"\"\"\n",
    "import re\n",
    "\n",
    "def is_palindrome(text):\n",
    "    pattern = r'^(.)(.)(.)\\2\\1$'\n",
    "    return bool(re.match(pattern, text))\n",
    "\n",
    "tests = [\"abcba\", \"12321\", \"abccba\", \"12345\"]\n",
    "for test in tests:\n",
    "    print(f\"{test}: {is_palindrome(test)}\")"
   ]
  },
  {
   "cell_type": "code",
   "execution_count": null,
   "id": "f981ccf1-7445-4f11-a91d-372452e29e89",
   "metadata": {},
   "outputs": [],
   "source": []
  }
 ],
 "metadata": {
  "kernelspec": {
   "display_name": "Python 3 (ipykernel)",
   "language": "python",
   "name": "python3"
  },
  "language_info": {
   "codemirror_mode": {
    "name": "ipython",
    "version": 3
   },
   "file_extension": ".py",
   "mimetype": "text/x-python",
   "name": "python",
   "nbconvert_exporter": "python",
   "pygments_lexer": "ipython3",
   "version": "3.10.4"
  }
 },
 "nbformat": 4,
 "nbformat_minor": 5
}
