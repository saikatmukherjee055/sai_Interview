{
 "cells": [
  {
   "cell_type": "code",
   "execution_count": 1,
   "id": "cc9c4b61-4534-4fbf-831a-f846d5bbba4d",
   "metadata": {},
   "outputs": [
    {
     "name": "stdout",
     "output_type": "stream",
     "text": [
      "Filtered rows where Age > 24 and Gender == 'Male':\n"
     ]
    },
    {
     "data": {
      "text/html": [
       "<div>\n",
       "<style scoped>\n",
       "    .dataframe tbody tr th:only-of-type {\n",
       "        vertical-align: middle;\n",
       "    }\n",
       "\n",
       "    .dataframe tbody tr th {\n",
       "        vertical-align: top;\n",
       "    }\n",
       "\n",
       "    .dataframe thead th {\n",
       "        text-align: right;\n",
       "    }\n",
       "</style>\n",
       "<table border=\"1\" class=\"dataframe\">\n",
       "  <thead>\n",
       "    <tr style=\"text-align: right;\">\n",
       "      <th></th>\n",
       "      <th>Name</th>\n",
       "      <th>Age</th>\n",
       "      <th>City</th>\n",
       "      <th>Gender</th>\n",
       "    </tr>\n",
       "  </thead>\n",
       "  <tbody>\n",
       "    <tr>\n",
       "      <th>0</th>\n",
       "      <td>John</td>\n",
       "      <td>25</td>\n",
       "      <td>New York</td>\n",
       "      <td>Male</td>\n",
       "    </tr>\n",
       "  </tbody>\n",
       "</table>\n",
       "</div>"
      ],
      "text/plain": [
       "   Name  Age      City Gender\n",
       "0  John   25  New York   Male"
      ]
     },
     "execution_count": 1,
     "metadata": {},
     "output_type": "execute_result"
    }
   ],
   "source": [
    "# Problem: Filter rows where Age is greater than 24 and Gender is 'Male'.\n",
    "\n",
    "import pandas as pd\n",
    "\n",
    "# Create the initial DataFrame\n",
    "data = {\n",
    "    'Name': ['John', 'Alice', 'Bob', 'Eve'],\n",
    "    'Age': [25, 30, 22, 27],\n",
    "    'City': ['New York', 'Los Angeles', 'Chicago', 'Houston'],\n",
    "    'Gender': ['Male', 'Female', 'Male', 'Female']\n",
    "}\n",
    "\n",
    "df = pd.DataFrame(data)\n",
    "\n",
    "# Filter rows where Age > 24 and Gender == 'Male'\n",
    "filtered_df = df[(df['Age'] > 24) & (df['Gender'] == 'Male')]\n",
    "\n",
    "# Output the result\n",
    "print(\"Filtered rows where Age > 24 and Gender == 'Male':\")\n",
    "filtered_df\n"
   ]
  },
  {
   "cell_type": "code",
   "execution_count": 2,
   "id": "a29a42a8-3621-4d02-a17c-21c74cfe97c9",
   "metadata": {},
   "outputs": [
    {
     "name": "stdout",
     "output_type": "stream",
     "text": [
      "DataFrame after adding the 'Category' column:\n"
     ]
    },
    {
     "data": {
      "text/html": [
       "<div>\n",
       "<style scoped>\n",
       "    .dataframe tbody tr th:only-of-type {\n",
       "        vertical-align: middle;\n",
       "    }\n",
       "\n",
       "    .dataframe tbody tr th {\n",
       "        vertical-align: top;\n",
       "    }\n",
       "\n",
       "    .dataframe thead th {\n",
       "        text-align: right;\n",
       "    }\n",
       "</style>\n",
       "<table border=\"1\" class=\"dataframe\">\n",
       "  <thead>\n",
       "    <tr style=\"text-align: right;\">\n",
       "      <th></th>\n",
       "      <th>Name</th>\n",
       "      <th>Age</th>\n",
       "      <th>City</th>\n",
       "      <th>Gender</th>\n",
       "      <th>Category</th>\n",
       "    </tr>\n",
       "  </thead>\n",
       "  <tbody>\n",
       "    <tr>\n",
       "      <th>0</th>\n",
       "      <td>John</td>\n",
       "      <td>25</td>\n",
       "      <td>New York</td>\n",
       "      <td>Male</td>\n",
       "      <td>Adult</td>\n",
       "    </tr>\n",
       "    <tr>\n",
       "      <th>1</th>\n",
       "      <td>Alice</td>\n",
       "      <td>30</td>\n",
       "      <td>Los Angeles</td>\n",
       "      <td>Female</td>\n",
       "      <td>Senior</td>\n",
       "    </tr>\n",
       "    <tr>\n",
       "      <th>2</th>\n",
       "      <td>Bob</td>\n",
       "      <td>22</td>\n",
       "      <td>Chicago</td>\n",
       "      <td>Male</td>\n",
       "      <td>Young</td>\n",
       "    </tr>\n",
       "    <tr>\n",
       "      <th>3</th>\n",
       "      <td>Eve</td>\n",
       "      <td>27</td>\n",
       "      <td>Houston</td>\n",
       "      <td>Female</td>\n",
       "      <td>Adult</td>\n",
       "    </tr>\n",
       "  </tbody>\n",
       "</table>\n",
       "</div>"
      ],
      "text/plain": [
       "    Name  Age         City  Gender Category\n",
       "0   John   25     New York    Male    Adult\n",
       "1  Alice   30  Los Angeles  Female   Senior\n",
       "2    Bob   22      Chicago    Male    Young\n",
       "3    Eve   27      Houston  Female    Adult"
      ]
     },
     "execution_count": 2,
     "metadata": {},
     "output_type": "execute_result"
    }
   ],
   "source": [
    "# Problem: Add a new column 'Category' to the DataFrame. Assign:\n",
    "# - 'Senior' if Age >= 30\n",
    "# - 'Adult' if 24 <= Age < 30\n",
    "# - 'Young' otherwise\n",
    "\n",
    "# Add a new column 'Category' based on the Age column\n",
    "df['Category'] = df['Age'].apply(\n",
    "    lambda x: 'Senior' if x >= 30 else 'Adult' if 24 <= x < 30 else 'Young'\n",
    ")\n",
    "\n",
    "# Output the updated DataFrame\n",
    "print(\"DataFrame after adding the 'Category' column:\")\n",
    "df\n"
   ]
  },
  {
   "cell_type": "code",
   "execution_count": 3,
   "id": "1fc0ae1b-aa64-4e63-88d1-1ba65a9889fc",
   "metadata": {},
   "outputs": [
    {
     "name": "stdout",
     "output_type": "stream",
     "text": [
      "Average Age by Gender:\n",
      "Gender\n",
      "Female    28.5\n",
      "Male      23.5\n",
      "Name: Age, dtype: float64\n"
     ]
    }
   ],
   "source": [
    "# Problem: Calculate the average 'Age' for each 'Gender'.\n",
    "\n",
    "# Group by Gender and calculate the mean Age\n",
    "avg_age_by_gender = df.groupby('Gender')['Age'].mean()\n",
    "\n",
    "# Output the result\n",
    "print(\"Average Age by Gender:\")\n",
    "print(avg_age_by_gender)\n"
   ]
  },
  {
   "cell_type": "code",
   "execution_count": 4,
   "id": "26ea4847-2529-4eed-acb7-7455ece45a41",
   "metadata": {},
   "outputs": [
    {
     "name": "stdout",
     "output_type": "stream",
     "text": [
      "DataFrame sorted by 'Category' and 'Age':\n",
      "    Name  Age         City  Gender Category\n",
      "3    Eve   27      Houston  Female    Adult\n",
      "0   John   25     New York    Male    Adult\n",
      "1  Alice   30  Los Angeles  Female   Senior\n",
      "2    Bob   22      Chicago    Male    Young\n"
     ]
    }
   ],
   "source": [
    "# Problem: Sort the DataFrame by 'Category' (ascending) and 'Age' (descending).\n",
    "\n",
    "# Sort by 'Category' and 'Age'\n",
    "sorted_df = df.sort_values(by=['Category', 'Age'], ascending=[True, False])\n",
    "\n",
    "# Output the sorted DataFrame\n",
    "print(\"DataFrame sorted by 'Category' and 'Age':\")\n",
    "print(sorted_df)\n"
   ]
  },
  {
   "cell_type": "code",
   "execution_count": 5,
   "id": "8f511ec4-51cf-4cae-aaef-05e0be4f856d",
   "metadata": {},
   "outputs": [
    {
     "name": "stdout",
     "output_type": "stream",
     "text": [
      "Top 2 oldest people in each Gender group:\n"
     ]
    },
    {
     "data": {
      "text/html": [
       "<div>\n",
       "<style scoped>\n",
       "    .dataframe tbody tr th:only-of-type {\n",
       "        vertical-align: middle;\n",
       "    }\n",
       "\n",
       "    .dataframe tbody tr th {\n",
       "        vertical-align: top;\n",
       "    }\n",
       "\n",
       "    .dataframe thead th {\n",
       "        text-align: right;\n",
       "    }\n",
       "</style>\n",
       "<table border=\"1\" class=\"dataframe\">\n",
       "  <thead>\n",
       "    <tr style=\"text-align: right;\">\n",
       "      <th></th>\n",
       "      <th>Name</th>\n",
       "      <th>Age</th>\n",
       "      <th>City</th>\n",
       "      <th>Gender</th>\n",
       "    </tr>\n",
       "  </thead>\n",
       "  <tbody>\n",
       "    <tr>\n",
       "      <th>4</th>\n",
       "      <td>Michael</td>\n",
       "      <td>35</td>\n",
       "      <td>Seattle</td>\n",
       "      <td>Male</td>\n",
       "    </tr>\n",
       "    <tr>\n",
       "      <th>1</th>\n",
       "      <td>Alice</td>\n",
       "      <td>30</td>\n",
       "      <td>Los Angeles</td>\n",
       "      <td>Female</td>\n",
       "    </tr>\n",
       "    <tr>\n",
       "      <th>5</th>\n",
       "      <td>Sophia</td>\n",
       "      <td>29</td>\n",
       "      <td>Austin</td>\n",
       "      <td>Female</td>\n",
       "    </tr>\n",
       "    <tr>\n",
       "      <th>0</th>\n",
       "      <td>John</td>\n",
       "      <td>25</td>\n",
       "      <td>New York</td>\n",
       "      <td>Male</td>\n",
       "    </tr>\n",
       "  </tbody>\n",
       "</table>\n",
       "</div>"
      ],
      "text/plain": [
       "      Name  Age         City  Gender\n",
       "4  Michael   35      Seattle    Male\n",
       "1    Alice   30  Los Angeles  Female\n",
       "5   Sophia   29       Austin  Female\n",
       "0     John   25     New York    Male"
      ]
     },
     "execution_count": 5,
     "metadata": {},
     "output_type": "execute_result"
    }
   ],
   "source": [
    "# Problem: From the DataFrame, find the top 2 oldest people in each Gender group.\n",
    "\n",
    "import pandas as pd\n",
    "\n",
    "# Create the initial DataFrame\n",
    "data = {\n",
    "    'Name': ['John', 'Alice', 'Bob', 'Eve', 'Michael', 'Sophia'],\n",
    "    'Age': [25, 30, 22, 27, 35, 29],\n",
    "    'City': ['New York', 'Los Angeles', 'Chicago', 'Houston', 'Seattle', 'Austin'],\n",
    "    'Gender': ['Male', 'Female', 'Male', 'Female', 'Male', 'Female']\n",
    "}\n",
    "\n",
    "df = pd.DataFrame(data)\n",
    "\n",
    "# Find the top 2 oldest people in each Gender group\n",
    "top_n_by_gender = df.sort_values(by='Age', ascending=False).groupby('Gender').head(2)\n",
    "\n",
    "# Output the result\n",
    "print(\"Top 2 oldest people in each Gender group:\")\n",
    "top_n_by_gender\n"
   ]
  },
  {
   "cell_type": "code",
   "execution_count": 6,
   "id": "3417eb00-01f6-487a-a827-de154a8fd9fa",
   "metadata": {},
   "outputs": [
    {
     "name": "stdout",
     "output_type": "stream",
     "text": [
      "DataFrame with Cumulative Sum of 'Age' for each Gender:\n"
     ]
    },
    {
     "data": {
      "text/html": [
       "<div>\n",
       "<style scoped>\n",
       "    .dataframe tbody tr th:only-of-type {\n",
       "        vertical-align: middle;\n",
       "    }\n",
       "\n",
       "    .dataframe tbody tr th {\n",
       "        vertical-align: top;\n",
       "    }\n",
       "\n",
       "    .dataframe thead th {\n",
       "        text-align: right;\n",
       "    }\n",
       "</style>\n",
       "<table border=\"1\" class=\"dataframe\">\n",
       "  <thead>\n",
       "    <tr style=\"text-align: right;\">\n",
       "      <th></th>\n",
       "      <th>Name</th>\n",
       "      <th>Age</th>\n",
       "      <th>City</th>\n",
       "      <th>Gender</th>\n",
       "      <th>Cumulative_Age</th>\n",
       "    </tr>\n",
       "  </thead>\n",
       "  <tbody>\n",
       "    <tr>\n",
       "      <th>0</th>\n",
       "      <td>John</td>\n",
       "      <td>25</td>\n",
       "      <td>New York</td>\n",
       "      <td>Male</td>\n",
       "      <td>25</td>\n",
       "    </tr>\n",
       "    <tr>\n",
       "      <th>1</th>\n",
       "      <td>Alice</td>\n",
       "      <td>30</td>\n",
       "      <td>Los Angeles</td>\n",
       "      <td>Female</td>\n",
       "      <td>30</td>\n",
       "    </tr>\n",
       "    <tr>\n",
       "      <th>2</th>\n",
       "      <td>Bob</td>\n",
       "      <td>22</td>\n",
       "      <td>Chicago</td>\n",
       "      <td>Male</td>\n",
       "      <td>47</td>\n",
       "    </tr>\n",
       "    <tr>\n",
       "      <th>3</th>\n",
       "      <td>Eve</td>\n",
       "      <td>27</td>\n",
       "      <td>Houston</td>\n",
       "      <td>Female</td>\n",
       "      <td>57</td>\n",
       "    </tr>\n",
       "    <tr>\n",
       "      <th>4</th>\n",
       "      <td>Michael</td>\n",
       "      <td>35</td>\n",
       "      <td>Seattle</td>\n",
       "      <td>Male</td>\n",
       "      <td>82</td>\n",
       "    </tr>\n",
       "    <tr>\n",
       "      <th>5</th>\n",
       "      <td>Sophia</td>\n",
       "      <td>29</td>\n",
       "      <td>Austin</td>\n",
       "      <td>Female</td>\n",
       "      <td>86</td>\n",
       "    </tr>\n",
       "  </tbody>\n",
       "</table>\n",
       "</div>"
      ],
      "text/plain": [
       "      Name  Age         City  Gender  Cumulative_Age\n",
       "0     John   25     New York    Male              25\n",
       "1    Alice   30  Los Angeles  Female              30\n",
       "2      Bob   22      Chicago    Male              47\n",
       "3      Eve   27      Houston  Female              57\n",
       "4  Michael   35      Seattle    Male              82\n",
       "5   Sophia   29       Austin  Female              86"
      ]
     },
     "execution_count": 6,
     "metadata": {},
     "output_type": "execute_result"
    }
   ],
   "source": [
    "# Problem: Add a new column that calculates the cumulative sum of 'Age' for each Gender.\n",
    "\n",
    "# Calculate the cumulative sum of Age within each Gender group\n",
    "df['Cumulative_Age'] = df.groupby('Gender')['Age'].cumsum()\n",
    "\n",
    "# Output the updated DataFrame\n",
    "print(\"DataFrame with Cumulative Sum of 'Age' for each Gender:\")\n",
    "df\n"
   ]
  },
  {
   "cell_type": "code",
   "execution_count": 7,
   "id": "b49a8756-bde6-4098-9be2-d6e82103846e",
   "metadata": {},
   "outputs": [
    {
     "name": "stdout",
     "output_type": "stream",
     "text": [
      "Pivot table with average and maximum 'Age':\n"
     ]
    },
    {
     "data": {
      "text/html": [
       "<div>\n",
       "<style scoped>\n",
       "    .dataframe tbody tr th:only-of-type {\n",
       "        vertical-align: middle;\n",
       "    }\n",
       "\n",
       "    .dataframe tbody tr th {\n",
       "        vertical-align: top;\n",
       "    }\n",
       "\n",
       "    .dataframe thead tr th {\n",
       "        text-align: left;\n",
       "    }\n",
       "\n",
       "    .dataframe thead tr:last-of-type th {\n",
       "        text-align: right;\n",
       "    }\n",
       "</style>\n",
       "<table border=\"1\" class=\"dataframe\">\n",
       "  <thead>\n",
       "    <tr>\n",
       "      <th></th>\n",
       "      <th colspan=\"6\" halign=\"left\">mean</th>\n",
       "      <th colspan=\"6\" halign=\"left\">max</th>\n",
       "    </tr>\n",
       "    <tr>\n",
       "      <th>City</th>\n",
       "      <th>Austin</th>\n",
       "      <th>Chicago</th>\n",
       "      <th>Houston</th>\n",
       "      <th>Los Angeles</th>\n",
       "      <th>New York</th>\n",
       "      <th>Seattle</th>\n",
       "      <th>Austin</th>\n",
       "      <th>Chicago</th>\n",
       "      <th>Houston</th>\n",
       "      <th>Los Angeles</th>\n",
       "      <th>New York</th>\n",
       "      <th>Seattle</th>\n",
       "    </tr>\n",
       "    <tr>\n",
       "      <th>Gender</th>\n",
       "      <th></th>\n",
       "      <th></th>\n",
       "      <th></th>\n",
       "      <th></th>\n",
       "      <th></th>\n",
       "      <th></th>\n",
       "      <th></th>\n",
       "      <th></th>\n",
       "      <th></th>\n",
       "      <th></th>\n",
       "      <th></th>\n",
       "      <th></th>\n",
       "    </tr>\n",
       "  </thead>\n",
       "  <tbody>\n",
       "    <tr>\n",
       "      <th>Female</th>\n",
       "      <td>29.0</td>\n",
       "      <td>0.0</td>\n",
       "      <td>27.0</td>\n",
       "      <td>30.0</td>\n",
       "      <td>0.0</td>\n",
       "      <td>0.0</td>\n",
       "      <td>29</td>\n",
       "      <td>0</td>\n",
       "      <td>27</td>\n",
       "      <td>30</td>\n",
       "      <td>0</td>\n",
       "      <td>0</td>\n",
       "    </tr>\n",
       "    <tr>\n",
       "      <th>Male</th>\n",
       "      <td>0.0</td>\n",
       "      <td>22.0</td>\n",
       "      <td>0.0</td>\n",
       "      <td>0.0</td>\n",
       "      <td>25.0</td>\n",
       "      <td>35.0</td>\n",
       "      <td>0</td>\n",
       "      <td>22</td>\n",
       "      <td>0</td>\n",
       "      <td>0</td>\n",
       "      <td>25</td>\n",
       "      <td>35</td>\n",
       "    </tr>\n",
       "  </tbody>\n",
       "</table>\n",
       "</div>"
      ],
      "text/plain": [
       "         mean                                                 max          \\\n",
       "City   Austin Chicago Houston Los Angeles New York Seattle Austin Chicago   \n",
       "Gender                                                                      \n",
       "Female   29.0     0.0    27.0        30.0      0.0     0.0     29       0   \n",
       "Male      0.0    22.0     0.0         0.0     25.0    35.0      0      22   \n",
       "\n",
       "                                             \n",
       "City   Houston Los Angeles New York Seattle  \n",
       "Gender                                       \n",
       "Female      27          30        0       0  \n",
       "Male         0           0       25      35  "
      ]
     },
     "execution_count": 7,
     "metadata": {},
     "output_type": "execute_result"
    }
   ],
   "source": [
    "# Problem: Create a pivot table showing the average and maximum 'Age' for each Gender and City.\n",
    "\n",
    "# Create the pivot table\n",
    "pivot = df.pivot_table(\n",
    "    values='Age',\n",
    "    index='Gender',\n",
    "    columns='City',\n",
    "    aggfunc=['mean', 'max'],\n",
    "    fill_value=0\n",
    ")\n",
    "\n",
    "# Output the pivot table\n",
    "print(\"Pivot table with average and maximum 'Age':\")\n",
    "pivot\n"
   ]
  },
  {
   "cell_type": "code",
   "execution_count": 8,
   "id": "32a848a1-ec64-4b4f-9904-4eaeb4eab77b",
   "metadata": {},
   "outputs": [
    {
     "name": "stdout",
     "output_type": "stream",
     "text": [
      "Percentage distribution of each Gender:\n",
      "Gender\n",
      "Male      50.0\n",
      "Female    50.0\n",
      "Name: proportion, dtype: float64\n"
     ]
    }
   ],
   "source": [
    "# Problem: Calculate the percentage distribution of each Gender in the DataFrame.\n",
    "\n",
    "# Calculate the percentage distribution\n",
    "gender_percentage = (df['Gender'].value_counts(normalize=True) * 100).round(2)\n",
    "\n",
    "# Output the result\n",
    "print(\"Percentage distribution of each Gender:\")\n",
    "print(gender_percentage)\n"
   ]
  },
  {
   "cell_type": "code",
   "execution_count": 9,
   "id": "54a5e19f-f327-49a7-b915-3c8f4a5aeda2",
   "metadata": {},
   "outputs": [
    {
     "name": "stdout",
     "output_type": "stream",
     "text": [
      "DataFrame after handling outliers in the 'Age' column:\n",
      "      Name  Age         City  Gender  Cumulative_Age  Age_Cleaned\n",
      "0     John   25     New York    Male              25           25\n",
      "1    Alice   30  Los Angeles  Female              30           30\n",
      "2      Bob   22      Chicago    Male              47           22\n",
      "3      Eve   27      Houston  Female              57           27\n",
      "4  Michael   35      Seattle    Male              82           35\n",
      "5   Sophia   29       Austin  Female              86           29\n"
     ]
    }
   ],
   "source": [
    "# Problem: Detect and replace outliers in the 'Age' column using the IQR method.\n",
    "import numpy as np\n",
    "\n",
    "# Calculate the IQR (Interquartile Range)\n",
    "Q1 = df['Age'].quantile(0.25)\n",
    "Q3 = df['Age'].quantile(0.75)\n",
    "IQR = Q3 - Q1\n",
    "\n",
    "# Define the lower and upper bounds for outliers\n",
    "lower_bound = Q1 - 1.5 * IQR\n",
    "upper_bound = Q3 + 1.5 * IQR\n",
    "\n",
    "# Replace outliers with the median Age\n",
    "median_age = df['Age'].median()\n",
    "df['Age_Cleaned'] = df['Age'].apply(lambda x: median_age if x < lower_bound or x > upper_bound else x)\n",
    "\n",
    "# Output the DataFrame with cleaned Age column\n",
    "print(\"DataFrame after handling outliers in the 'Age' column:\")\n",
    "print(df)\n"
   ]
  },
  {
   "cell_type": "code",
   "execution_count": 10,
   "id": "bfbf7ce8-a06f-402d-afec-ae726c06c4c0",
   "metadata": {},
   "outputs": [
    {
     "name": "stdout",
     "output_type": "stream",
     "text": [
      "DataFrame with 3-period rolling average of 'Age':\n",
      "      Name  Age         City  Gender  Rolling_Average_Age\n",
      "0     John   25     New York    Male                  NaN\n",
      "1    Alice   30  Los Angeles  Female                  NaN\n",
      "2      Bob   22      Chicago    Male            25.666667\n",
      "3      Eve   27      Houston  Female            26.333333\n",
      "4  Michael   35      Seattle    Male            28.000000\n",
      "5   Sophia   29       Austin  Female            30.333333\n"
     ]
    }
   ],
   "source": [
    "# Problem: Calculate a 3-period rolling average of the 'Age' column.\n",
    "\n",
    "import pandas as pd\n",
    "\n",
    "# Create the initial DataFrame\n",
    "data = {\n",
    "    'Name': ['John', 'Alice', 'Bob', 'Eve', 'Michael', 'Sophia'],\n",
    "    'Age': [25, 30, 22, 27, 35, 29],\n",
    "    'City': ['New York', 'Los Angeles', 'Chicago', 'Houston', 'Seattle', 'Austin'],\n",
    "    'Gender': ['Male', 'Female', 'Male', 'Female', 'Male', 'Female']\n",
    "}\n",
    "\n",
    "df = pd.DataFrame(data)\n",
    "\n",
    "# Calculate the 3-period rolling average of 'Age'\n",
    "df['Rolling_Average_Age'] = df['Age'].rolling(window=3).mean()\n",
    "\n",
    "# Output the updated DataFrame\n",
    "print(\"DataFrame with 3-period rolling average of 'Age':\")\n",
    "print(df)\n"
   ]
  },
  {
   "cell_type": "code",
   "execution_count": 11,
   "id": "047375f3-206c-4b1b-bb57-4bcc03eba2fb",
   "metadata": {},
   "outputs": [
    {
     "name": "stdout",
     "output_type": "stream",
     "text": [
      "DataFrame with 'Age_Squared' column:\n",
      "      Name  Age         City  Gender  Rolling_Average_Age  Age_Squared\n",
      "0     John   25     New York    Male                  NaN          625\n",
      "1    Alice   30  Los Angeles  Female                  NaN          900\n",
      "2      Bob   22      Chicago    Male            25.666667          484\n",
      "3      Eve   27      Houston  Female            26.333333          729\n",
      "4  Michael   35      Seattle    Male            28.000000         1225\n",
      "5   Sophia   29       Austin  Female            30.333333          841\n"
     ]
    }
   ],
   "source": [
    "# Problem: Add a new column 'Age_Squared' by squaring the values in the 'Age' column.\n",
    "\n",
    "# Define a custom function to square a number\n",
    "def square(x):\n",
    "    return x ** 2\n",
    "\n",
    "# Apply the function to the 'Age' column\n",
    "df['Age_Squared'] = df['Age'].apply(square)\n",
    "\n",
    "# Output the updated DataFrame\n",
    "print(\"DataFrame with 'Age_Squared' column:\")\n",
    "print(df)\n"
   ]
  },
  {
   "cell_type": "code",
   "execution_count": 12,
   "id": "006cd97f-e27e-47cb-ac6a-810388fcc2d8",
   "metadata": {},
   "outputs": [
    {
     "name": "stdout",
     "output_type": "stream",
     "text": [
      "DataFrame with 'Age' values replaced based on a condition:\n",
      "      Name  Age         City  Gender  Rolling_Average_Age  Age_Squared  \\\n",
      "0     John   25     New York    Male                  NaN          625   \n",
      "1    Alice   30  Los Angeles  Female                  NaN          900   \n",
      "2      Bob   22      Chicago    Male            25.666667          484   \n",
      "3      Eve   27      Houston  Female            26.333333          729   \n",
      "4  Michael   35      Seattle    Male            28.000000         1225   \n",
      "5   Sophia   29       Austin  Female            30.333333          841   \n",
      "\n",
      "  Age_Updated  \n",
      "0          25  \n",
      "1          30  \n",
      "2          22  \n",
      "3          27  \n",
      "4      Senior  \n",
      "5          29  \n"
     ]
    }
   ],
   "source": [
    "# Problem: Replace all 'Age' values greater than 30 with the string 'Senior'.\n",
    "\n",
    "# Replace values in 'Age' column based on a condition\n",
    "df['Age_Updated'] = df['Age'].apply(lambda x: 'Senior' if x > 30 else x)\n",
    "\n",
    "# Output the updated DataFrame\n",
    "print(\"DataFrame with 'Age' values replaced based on a condition:\")\n",
    "print(df)\n"
   ]
  },
  {
   "cell_type": "code",
   "execution_count": 13,
   "id": "96b67e6f-f10f-40bb-ada8-ab5f258ec074",
   "metadata": {},
   "outputs": [
    {
     "name": "stdout",
     "output_type": "stream",
     "text": [
      "Number of unique cities: 6\n"
     ]
    }
   ],
   "source": [
    "# Problem: Count the number of unique cities in the DataFrame.\n",
    "\n",
    "# Count unique cities\n",
    "unique_cities_count = df['City'].nunique()\n",
    "\n",
    "# Output the result\n",
    "print(f\"Number of unique cities: {unique_cities_count}\")\n"
   ]
  },
  {
   "cell_type": "code",
   "execution_count": 14,
   "id": "a6c72159-5fc0-4084-b4c4-c87c75bd27e2",
   "metadata": {},
   "outputs": [
    {
     "name": "stdout",
     "output_type": "stream",
     "text": [
      "New DataFrame with sum of 'Age' for each Gender:\n",
      "   Gender  Age\n",
      "0  Female   86\n",
      "1    Male   82\n"
     ]
    }
   ],
   "source": [
    "# Problem: Create a new DataFrame with the sum of 'Age' for each Gender group.\n",
    "\n",
    "# Group by Gender and sum the 'Age' column\n",
    "gender_age_sum = df.groupby('Gender')['Age'].sum().reset_index()\n",
    "\n",
    "# Output the new DataFrame\n",
    "print(\"New DataFrame with sum of 'Age' for each Gender:\")\n",
    "print(gender_age_sum)\n"
   ]
  },
  {
   "cell_type": "code",
   "execution_count": 15,
   "id": "15df984d-7d7d-4a2c-94b8-a82f2772c1c0",
   "metadata": {},
   "outputs": [
    {
     "name": "stdout",
     "output_type": "stream",
     "text": [
      "DataFrame with Age rank within Gender groups:\n",
      "      Name  Age         City  Gender  Rolling_Average_Age  Age_Squared  \\\n",
      "0     John   25     New York    Male                  NaN          625   \n",
      "1    Alice   30  Los Angeles  Female                  NaN          900   \n",
      "2      Bob   22      Chicago    Male            25.666667          484   \n",
      "3      Eve   27      Houston  Female            26.333333          729   \n",
      "4  Michael   35      Seattle    Male            28.000000         1225   \n",
      "5   Sophia   29       Austin  Female            30.333333          841   \n",
      "\n",
      "  Age_Updated  Age_Rank  \n",
      "0          25       2.0  \n",
      "1          30       1.0  \n",
      "2          22       3.0  \n",
      "3          27       3.0  \n",
      "4      Senior       1.0  \n",
      "5          29       2.0  \n"
     ]
    }
   ],
   "source": [
    "# Problem: Rank the rows within each Gender group by 'Age', assigning 1 to the oldest.\n",
    "\n",
    "# Rank within each Gender group\n",
    "df['Age_Rank'] = df.groupby('Gender')['Age'].rank(ascending=False)\n",
    "\n",
    "# Output the updated DataFrame\n",
    "print(\"DataFrame with Age rank within Gender groups:\")\n",
    "print(df)\n"
   ]
  },
  {
   "cell_type": "code",
   "execution_count": 16,
   "id": "03fb7209-82c9-4096-88cd-5816b0f6f05e",
   "metadata": {},
   "outputs": [
    {
     "name": "stdout",
     "output_type": "stream",
     "text": [
      "DataFrame with percent change in 'Age':\n",
      "      Name  Age         City  Gender  Rolling_Average_Age  Age_Squared  \\\n",
      "0     John   25     New York    Male                  NaN          625   \n",
      "1    Alice   30  Los Angeles  Female                  NaN          900   \n",
      "2      Bob   22      Chicago    Male            25.666667          484   \n",
      "3      Eve   27      Houston  Female            26.333333          729   \n",
      "4  Michael   35      Seattle    Male            28.000000         1225   \n",
      "5   Sophia   29       Austin  Female            30.333333          841   \n",
      "\n",
      "  Age_Updated  Age_Rank  Age_Percent_Change  \n",
      "0          25       2.0                 NaN  \n",
      "1          30       1.0           20.000000  \n",
      "2          22       3.0          -26.666667  \n",
      "3          27       3.0           22.727273  \n",
      "4      Senior       1.0           29.629630  \n",
      "5          29       2.0          -17.142857  \n"
     ]
    }
   ],
   "source": [
    "# Problem: Calculate the percent change in 'Age' for consecutive rows.\n",
    "\n",
    "# Calculate percent change in 'Age'\n",
    "df['Age_Percent_Change'] = df['Age'].pct_change() * 100\n",
    "\n",
    "# Output the updated DataFrame\n",
    "print(\"DataFrame with percent change in 'Age':\")\n",
    "print(df)\n"
   ]
  },
  {
   "cell_type": "code",
   "execution_count": 17,
   "id": "68aa753c-a3d1-44b4-9ae2-ac51586c36da",
   "metadata": {},
   "outputs": [
    {
     "name": "stdout",
     "output_type": "stream",
     "text": [
      "DataFrame with year, month, and day extracted:\n",
      "    Name  Join_Date  Year  Month  Day\n",
      "0   John 2023-01-15  2023      1   15\n",
      "1  Alice 2021-06-10  2021      6   10\n",
      "2    Bob 2022-03-05  2022      3    5\n",
      "3    Eve 2020-11-20  2020     11   20\n"
     ]
    }
   ],
   "source": [
    "# Problem: Convert a string column to datetime format and extract year, month, and day.\n",
    "\n",
    "import pandas as pd\n",
    "\n",
    "# Create a DataFrame with a date column in string format\n",
    "data = {'Name': ['John', 'Alice', 'Bob', 'Eve'],\n",
    "        'Join_Date': ['2023-01-15', '2021-06-10', '2022-03-05', '2020-11-20']}\n",
    "\n",
    "df = pd.DataFrame(data)\n",
    "\n",
    "# Convert the 'Join_Date' column to datetime format\n",
    "df['Join_Date'] = pd.to_datetime(df['Join_Date'])\n",
    "\n",
    "# Extract year, month, and day from the 'Join_Date' column\n",
    "df['Year'] = df['Join_Date'].dt.year\n",
    "df['Month'] = df['Join_Date'].dt.month\n",
    "df['Day'] = df['Join_Date'].dt.day\n",
    "\n",
    "# Output the updated DataFrame\n",
    "print(\"DataFrame with year, month, and day extracted:\")\n",
    "print(df)\n"
   ]
  },
  {
   "cell_type": "code",
   "execution_count": 18,
   "id": "db05370e-7d4f-4236-b30f-44e3e3d47c7d",
   "metadata": {},
   "outputs": [
    {
     "name": "stdout",
     "output_type": "stream",
     "text": [
      "Duplicate rows:\n",
      "    Name  Age         City\n",
      "3  Alice   30  Los Angeles\n",
      "\n",
      "DataFrame after removing duplicates:\n",
      "    Name  Age         City\n",
      "0   John   25     New York\n",
      "1  Alice   30  Los Angeles\n",
      "2    Bob   22      Chicago\n"
     ]
    }
   ],
   "source": [
    "# Problem: Find and remove duplicate rows in the DataFrame.\n",
    "\n",
    "# Create a DataFrame with duplicate rows\n",
    "data = {'Name': ['John', 'Alice', 'Bob', 'Alice'],\n",
    "        'Age': [25, 30, 22, 30],\n",
    "        'City': ['New York', 'Los Angeles', 'Chicago', 'Los Angeles']}\n",
    "\n",
    "df = pd.DataFrame(data)\n",
    "\n",
    "# Find duplicate rows\n",
    "duplicates = df[df.duplicated()]\n",
    "\n",
    "# Remove duplicate rows\n",
    "df_cleaned = df.drop_duplicates()\n",
    "\n",
    "# Output the results\n",
    "print(\"Duplicate rows:\")\n",
    "print(duplicates)\n",
    "print(\"\\nDataFrame after removing duplicates:\")\n",
    "print(df_cleaned)\n"
   ]
  },
  {
   "cell_type": "code",
   "execution_count": 19,
   "id": "e661b2a2-967b-4670-9f75-c6950d63646a",
   "metadata": {},
   "outputs": [
    {
     "name": "stdout",
     "output_type": "stream",
     "text": [
      "Merged DataFrame:\n",
      "    Name         City  Age  Salary\n",
      "0   John     New York   25   70000\n",
      "1  Alice  Los Angeles   30   80000\n"
     ]
    }
   ],
   "source": [
    "# Problem: Merge two DataFrames on multiple keys (Name and City).\n",
    "\n",
    "# Create two DataFrames\n",
    "df1 = pd.DataFrame({'Name': ['John', 'Alice', 'Bob'],\n",
    "                    'City': ['New York', 'Los Angeles', 'Chicago'],\n",
    "                    'Age': [25, 30, 22]})\n",
    "\n",
    "df2 = pd.DataFrame({'Name': ['John', 'Alice', 'Bob'],\n",
    "                    'City': ['New York', 'Los Angeles', 'Seattle'],\n",
    "                    'Salary': [70000, 80000, 60000]})\n",
    "\n",
    "# Merge on multiple keys\n",
    "merged_df = pd.merge(df1, df2, on=['Name', 'City'], how='inner')\n",
    "\n",
    "# Output the merged DataFrame\n",
    "print(\"Merged DataFrame:\")\n",
    "print(merged_df)\n"
   ]
  },
  {
   "cell_type": "code",
   "execution_count": 20,
   "id": "232243f4-cf8a-4b14-9cf1-2feda51348cc",
   "metadata": {},
   "outputs": [
    {
     "name": "stdout",
     "output_type": "stream",
     "text": [
      "Aggregated DataFrame with custom functions:\n",
      "   Gender    Avg_Age  Count\n",
      "0  Female  28.666667      3\n",
      "1    Male  27.333333      3\n"
     ]
    }
   ],
   "source": [
    "# Problem: Group by Gender and calculate custom aggregations: average Age and count of rows.\n",
    "\n",
    "# Create the initial DataFrame\n",
    "data = {'Name': ['John', 'Alice', 'Bob', 'Eve', 'Michael', 'Sophia'],\n",
    "        'Age': [25, 30, 22, 27, 35, 29],\n",
    "        'Gender': ['Male', 'Female', 'Male', 'Female', 'Male', 'Female']}\n",
    "\n",
    "df = pd.DataFrame(data)\n",
    "\n",
    "# Group by Gender and apply custom aggregations\n",
    "agg_df = df.groupby('Gender').agg(\n",
    "    Avg_Age=('Age', 'mean'),\n",
    "    Count=('Name', 'size')\n",
    ").reset_index()\n",
    "\n",
    "# Output the aggregated DataFrame\n",
    "print(\"Aggregated DataFrame with custom functions:\")\n",
    "print(agg_df)\n"
   ]
  },
  {
   "cell_type": "code",
   "execution_count": 21,
   "id": "66280f52-4c6c-46bb-bde7-7ceefb98f0cc",
   "metadata": {},
   "outputs": [
    {
     "name": "stdout",
     "output_type": "stream",
     "text": [
      "Melted DataFrame:\n",
      "    Name  Subject  Score\n",
      "0   John     Math     85\n",
      "1  Alice     Math     90\n",
      "2    Bob     Math     78\n",
      "3   John  Science     92\n",
      "4  Alice  Science     88\n",
      "5    Bob  Science     80\n"
     ]
    }
   ],
   "source": [
    "# Problem: Reshape the DataFrame using the melt function to make it long-form.\n",
    "\n",
    "# Create a DataFrame\n",
    "data = {'Name': ['John', 'Alice', 'Bob'],\n",
    "        'Math': [85, 90, 78],\n",
    "        'Science': [92, 88, 80]}\n",
    "\n",
    "df = pd.DataFrame(data)\n",
    "\n",
    "# Melt the DataFrame\n",
    "melted_df = pd.melt(df, id_vars=['Name'], var_name='Subject', value_name='Score')\n",
    "\n",
    "# Output the melted DataFrame\n",
    "print(\"Melted DataFrame:\")\n",
    "print(melted_df)\n"
   ]
  },
  {
   "cell_type": "code",
   "execution_count": 22,
   "id": "52fa2efc-e8c7-4987-8f43-2ded0e95b8de",
   "metadata": {},
   "outputs": [
    {
     "name": "stdout",
     "output_type": "stream",
     "text": [
      "Pivoted DataFrame:\n",
      "Subject   Name  Math  Science\n",
      "0        Alice    90       88\n",
      "1          Bob    78       80\n",
      "2         John    85       92\n"
     ]
    }
   ],
   "source": [
    "# Problem: Pivot the melted DataFrame back to its original wide format.\n",
    "\n",
    "# Pivot the melted DataFrame\n",
    "pivoted_df = melted_df.pivot(index='Name', columns='Subject', values='Score').reset_index()\n",
    "\n",
    "# Output the pivoted DataFrame\n",
    "print(\"Pivoted DataFrame:\")\n",
    "print(pivoted_df)\n"
   ]
  },
  {
   "cell_type": "code",
   "execution_count": 23,
   "id": "613f404f-02cc-4de5-8d53-7618711d2030",
   "metadata": {},
   "outputs": [
    {
     "name": "stdout",
     "output_type": "stream",
     "text": [
      "Correlation matrix:\n",
      "             Math   Science   English\n",
      "Math     1.000000  0.653721  0.461619\n",
      "Science  0.653721  1.000000  0.421637\n",
      "English  0.461619  0.421637  1.000000\n"
     ]
    }
   ],
   "source": [
    "# Problem: Calculate the correlation matrix for numeric columns in the DataFrame.\n",
    "\n",
    "# Create a DataFrame\n",
    "data = {'Math': [85, 90, 78, 88],\n",
    "        'Science': [92, 88, 80, 86],\n",
    "        'English': [87, 84, 83, 90]}\n",
    "\n",
    "df = pd.DataFrame(data)\n",
    "\n",
    "# Calculate the correlation matrix\n",
    "correlation_matrix = df.corr()\n",
    "\n",
    "# Output the correlation matrix\n",
    "print(\"Correlation matrix:\")\n",
    "print(correlation_matrix)\n"
   ]
  },
  {
   "cell_type": "markdown",
   "id": "6f43e432-393d-4d93-8844-2a42b4f9b18c",
   "metadata": {},
   "source": [
    "# RegEx"
   ]
  },
  {
   "cell_type": "code",
   "execution_count": 24,
   "id": "0a9a0fa1-2524-4978-8f95-1479049d7a19",
   "metadata": {},
   "outputs": [
    {
     "name": "stdout",
     "output_type": "stream",
     "text": [
      "Extracted domain names from email addresses:\n",
      "                  Email       Domain\n",
      "0  john.doe@example.com  example.com\n",
      "1  alice123@company.org  company.org\n",
      "2     bob.smith@edu.net      edu.net\n"
     ]
    }
   ],
   "source": [
    "# Problem: Extract the domain names from email addresses in a column.\n",
    "\n",
    "import pandas as pd\n",
    "\n",
    "# Create a DataFrame with email addresses\n",
    "data = {'Email': ['john.doe@example.com', 'alice123@company.org', 'bob.smith@edu.net']}\n",
    "df = pd.DataFrame(data)\n",
    "\n",
    "# Extract domain names using regex\n",
    "df['Domain'] = df['Email'].str.extract(r'@([\\w.-]+)')\n",
    "\n",
    "# Output the updated DataFrame\n",
    "print(\"Extracted domain names from email addresses:\")\n",
    "print(df)\n"
   ]
  },
  {
   "cell_type": "code",
   "execution_count": 25,
   "id": "39fd3ddb-30c9-456d-9001-f05252bdd3ea",
   "metadata": {},
   "outputs": [
    {
     "name": "stdout",
     "output_type": "stream",
     "text": [
      "Filtered rows with '.com' email addresses:\n",
      "                  Email       Domain\n",
      "0  john.doe@example.com  example.com\n"
     ]
    }
   ],
   "source": [
    "# Problem: Filter rows where the 'Email' column contains email addresses ending with '.com'.\n",
    "\n",
    "# Filter rows using regex\n",
    "filtered_df = df[df['Email'].str.contains(r'\\.com$')]\n",
    "\n",
    "# Output the filtered DataFrame\n",
    "print(\"Filtered rows with '.com' email addresses:\")\n",
    "print(filtered_df)\n"
   ]
  },
  {
   "cell_type": "code",
   "execution_count": 26,
   "id": "8a742cf5-6d1e-43ac-b870-89e9d1948ef8",
   "metadata": {},
   "outputs": [
    {
     "name": "stdout",
     "output_type": "stream",
     "text": [
      "Validation of phone numbers:\n",
      "            Phone  Valid_Phone\n",
      "0  (123) 456-7890         True\n",
      "1    123-456-7890        False\n",
      "2  (987) 654-3210         True\n"
     ]
    }
   ],
   "source": [
    "# Problem: Validate phone numbers in a column (format: (XXX) XXX-XXXX).\n",
    "\n",
    "# Create a DataFrame with phone numbers\n",
    "data = {'Phone': ['(123) 456-7890', '123-456-7890', '(987) 654-3210']}\n",
    "df = pd.DataFrame(data)\n",
    "\n",
    "# Validate phone numbers using regex\n",
    "df['Valid_Phone'] = df['Phone'].str.match(r'^\\(\\d{3}\\) \\d{3}-\\d{4}$')\n",
    "\n",
    "# Output the updated DataFrame\n",
    "print(\"Validation of phone numbers:\")\n",
    "print(df)\n"
   ]
  },
  {
   "cell_type": "code",
   "execution_count": 27,
   "id": "32eec7e6-5423-4562-bcf8-910f7edbaa86",
   "metadata": {},
   "outputs": [
    {
     "name": "stdout",
     "output_type": "stream",
     "text": [
      "Extracted numbers from strings:\n",
      "             Text Numbers\n",
      "0    Order #12345   12345\n",
      "1  Item ID: 67890   67890\n",
      "2   Ref: ABC-9876    9876\n"
     ]
    }
   ],
   "source": [
    "# Problem: Extract all numbers from a column of strings.\n",
    "\n",
    "# Create a DataFrame with mixed strings\n",
    "data = {'Text': ['Order #12345', 'Item ID: 67890', 'Ref: ABC-9876']}\n",
    "df = pd.DataFrame(data)\n",
    "\n",
    "# Extract numbers using regex\n",
    "df['Numbers'] = df['Text'].str.extract(r'(\\d+)')\n",
    "\n",
    "# Output the updated DataFrame\n",
    "print(\"Extracted numbers from strings:\")\n",
    "print(df)\n"
   ]
  },
  {
   "cell_type": "code",
   "execution_count": 28,
   "id": "feb01f7d-d8c9-40dc-929b-45bfa60381ae",
   "metadata": {},
   "outputs": [
    {
     "name": "stdout",
     "output_type": "stream",
     "text": [
      "Replaced special characters with underscores:\n",
      "             Text Numbers    Cleaned_Text\n",
      "0    Order #12345   12345    Order__12345\n",
      "1  Item ID: 67890   67890  Item_ID__67890\n",
      "2   Ref: ABC-9876    9876   Ref__ABC_9876\n"
     ]
    }
   ],
   "source": [
    "# Problem: Replace special characters in a column with underscores.\n",
    "\n",
    "# Replace special characters using regex\n",
    "df['Cleaned_Text'] = df['Text'].str.replace(r'[^a-zA-Z0-9]', '_', regex=True)\n",
    "\n",
    "# Output the updated DataFrame\n",
    "print(\"Replaced special characters with underscores:\")\n",
    "print(df)\n"
   ]
  },
  {
   "cell_type": "code",
   "execution_count": 29,
   "id": "499f3d06-7dbd-4ba5-9f3c-a550f53829e6",
   "metadata": {},
   "outputs": [
    {
     "name": "stdout",
     "output_type": "stream",
     "text": [
      "Extracted the first word from strings:\n",
      "             Text Numbers    Cleaned_Text First_Word\n",
      "0    Order #12345   12345    Order__12345      Order\n",
      "1  Item ID: 67890   67890  Item_ID__67890       Item\n",
      "2   Ref: ABC-9876    9876   Ref__ABC_9876        Ref\n"
     ]
    }
   ],
   "source": [
    "# Problem: Extract the first word from a column of strings.\n",
    "\n",
    "# Extract the first word using regex\n",
    "df['First_Word'] = df['Text'].str.extract(r'^(\\w+)')\n",
    "\n",
    "# Output the updated DataFrame\n",
    "print(\"Extracted the first word from strings:\")\n",
    "print(df)\n"
   ]
  },
  {
   "cell_type": "code",
   "execution_count": 30,
   "id": "13e167ae-fb1f-4fde-9072-8430bbc6aa43",
   "metadata": {},
   "outputs": [
    {
     "name": "stdout",
     "output_type": "stream",
     "text": [
      "Rows where 'Text' contains words starting with 'O':\n",
      "             Text Numbers    Cleaned_Text First_Word  Starts_With_O\n",
      "0    Order #12345   12345    Order__12345      Order           True\n",
      "1  Item ID: 67890   67890  Item_ID__67890       Item          False\n",
      "2   Ref: ABC-9876    9876   Ref__ABC_9876        Ref          False\n"
     ]
    }
   ],
   "source": [
    "# Problem: Identify rows where the 'Text' column contains a specific pattern (e.g., words starting with 'O').\n",
    "\n",
    "# Find rows with words starting with 'O'\n",
    "df['Starts_With_O'] = df['Text'].str.contains(r'\\bO\\w*')\n",
    "\n",
    "# Output the updated DataFrame\n",
    "print(\"Rows where 'Text' contains words starting with 'O':\")\n",
    "print(df)\n"
   ]
  },
  {
   "cell_type": "code",
   "execution_count": 31,
   "id": "c2af04ec-1b0b-40f0-870d-3b549ffd9856",
   "metadata": {},
   "outputs": [
    {
     "name": "stdout",
     "output_type": "stream",
     "text": [
      "Extracted letters and numbers into separate columns:\n",
      "             Text Numbers    Cleaned_Text First_Word  Starts_With_O Letters  \\\n",
      "0    Order #12345   12345    Order__12345      Order           True   Order   \n",
      "1  Item ID: 67890   67890  Item_ID__67890       Item          False    Item   \n",
      "2   Ref: ABC-9876    9876   Ref__ABC_9876        Ref          False     Ref   \n",
      "\n",
      "  Digits  \n",
      "0  12345  \n",
      "1  67890  \n",
      "2   9876  \n"
     ]
    }
   ],
   "source": [
    "# Problem: Extract both letters and numbers from a column into separate columns.\n",
    "\n",
    "# Extract letters and numbers using regex\n",
    "df[['Letters', 'Digits']] = df['Text'].str.extract(r'([A-Za-z]+).*?(\\d+)')\n",
    "\n",
    "# Output the updated DataFrame\n",
    "print(\"Extracted letters and numbers into separate columns:\")\n",
    "print(df)\n"
   ]
  },
  {
   "cell_type": "code",
   "execution_count": 32,
   "id": "26ed4c25-e4e0-4149-938d-05bda0853e2b",
   "metadata": {},
   "outputs": [
    {
     "name": "stdout",
     "output_type": "stream",
     "text": [
      "Split strings into multiple parts:\n",
      "             Text Numbers    Cleaned_Text First_Word  Starts_With_O Letters  \\\n",
      "0    Order #12345   12345    Order__12345      Order           True   Order   \n",
      "1  Item ID: 67890   67890  Item_ID__67890       Item          False    Item   \n",
      "2   Ref: ABC-9876    9876   Ref__ABC_9876        Ref          False     Ref   \n",
      "\n",
      "  Digits         Split_Text  \n",
      "0  12345     [Order, 12345]  \n",
      "1  67890  [Item, ID, 67890]  \n",
      "2   9876   [Ref, ABC, 9876]  \n"
     ]
    }
   ],
   "source": [
    "# Problem: Split strings in the 'Text' column into multiple parts based on spaces or special characters.\n",
    "\n",
    "# Split strings using regex\n",
    "df['Split_Text'] = df['Text'].str.split(r'[^\\w]+')\n",
    "\n",
    "# Output the updated DataFrame\n",
    "print(\"Split strings into multiple parts:\")\n",
    "print(df)\n"
   ]
  },
  {
   "cell_type": "code",
   "execution_count": 33,
   "id": "e064e365-ea0e-448e-9ee9-684041caf4ad",
   "metadata": {},
   "outputs": [
    {
     "name": "stdout",
     "output_type": "stream",
     "text": [
      "Rows where 'Text' contains the word 'Order':\n",
      "             Text Numbers    Cleaned_Text First_Word  Starts_With_O Letters  \\\n",
      "0    Order #12345   12345    Order__12345      Order           True   Order   \n",
      "1  Item ID: 67890   67890  Item_ID__67890       Item          False    Item   \n",
      "2   Ref: ABC-9876    9876   Ref__ABC_9876        Ref          False     Ref   \n",
      "\n",
      "  Digits         Split_Text  Contains_Order  \n",
      "0  12345     [Order, 12345]            True  \n",
      "1  67890  [Item, ID, 67890]           False  \n",
      "2   9876   [Ref, ABC, 9876]           False  \n"
     ]
    }
   ],
   "source": [
    "# Problem: Identify rows where the 'Text' column contains the word 'Order'.\n",
    "\n",
    "# Find rows containing the specific word 'Order'\n",
    "df['Contains_Order'] = df['Text'].str.contains(r'\\bOrder\\b', regex=True)\n",
    "\n",
    "# Output the updated DataFrame\n",
    "print(\"Rows where 'Text' contains the word 'Order':\")\n",
    "print(df)\n"
   ]
  },
  {
   "cell_type": "code",
   "execution_count": 34,
   "id": "bf8a555e-f5e4-47ec-87a8-fc860685a523",
   "metadata": {},
   "outputs": [
    {
     "name": "stdout",
     "output_type": "stream",
     "text": [
      "Extracted words with exactly 5 characters:\n",
      "               Text Five_Char_Words\n",
      "0    Order ID 12345  [Order, 12345]\n",
      "1    This is a test              []\n",
      "2  Words like hello  [Words, hello]\n"
     ]
    }
   ],
   "source": [
    "# Problem: Extract all words with exactly 5 characters from a column.\n",
    "\n",
    "import pandas as pd\n",
    "\n",
    "# Create a DataFrame\n",
    "data = {'Text': ['Order ID 12345', 'This is a test', 'Words like hello']}\n",
    "df = pd.DataFrame(data)\n",
    "\n",
    "# Extract words with exactly 5 characters\n",
    "df['Five_Char_Words'] = df['Text'].str.findall(r'\\b\\w{5}\\b')\n",
    "\n",
    "# Output the updated DataFrame\n",
    "print(\"Extracted words with exactly 5 characters:\")\n",
    "print(df)\n"
   ]
  },
  {
   "cell_type": "code",
   "execution_count": 35,
   "id": "b4d8cce2-1184-4872-8e2f-4cdccda6a4d8",
   "metadata": {},
   "outputs": [
    {
     "name": "stdout",
     "output_type": "stream",
     "text": [
      "Replaced numbers with '<NUMBER>':\n",
      "               Text Five_Char_Words      Replaced_Text\n",
      "0    Order ID 12345  [Order, 12345]  Order ID <NUMBER>\n",
      "1    This is a test              []     This is a test\n",
      "2  Words like hello  [Words, hello]   Words like hello\n"
     ]
    }
   ],
   "source": [
    "# Problem: Replace all occurrences of numbers with the string '<NUMBER>'.\n",
    "\n",
    "# Replace numbers with the string '<NUMBER>'\n",
    "df['Replaced_Text'] = df['Text'].str.replace(r'\\d+', '<NUMBER>', regex=True)\n",
    "\n",
    "# Output the updated DataFrame\n",
    "print(\"Replaced numbers with '<NUMBER>':\")\n",
    "print(df)\n"
   ]
  },
  {
   "cell_type": "code",
   "execution_count": 36,
   "id": "1c4f073c-0a27-438a-848f-d1df1b6dd3af",
   "metadata": {},
   "outputs": [
    {
     "name": "stdout",
     "output_type": "stream",
     "text": [
      "Rows where 'Text' contains only alphabets:\n",
      "               Text Five_Char_Words      Replaced_Text  Only_Alphabets\n",
      "0    Order ID 12345  [Order, 12345]  Order ID <NUMBER>           False\n",
      "1    This is a test              []     This is a test            True\n",
      "2  Words like hello  [Words, hello]   Words like hello            True\n"
     ]
    }
   ],
   "source": [
    "# Problem: Identify rows where the 'Text' column contains only alphabetic characters.\n",
    "\n",
    "# Check if the column contains only alphabetic characters\n",
    "df['Only_Alphabets'] = df['Text'].str.match(r'^[a-zA-Z\\s]+$')\n",
    "\n",
    "# Output the updated DataFrame\n",
    "print(\"Rows where 'Text' contains only alphabets:\")\n",
    "print(df)\n"
   ]
  },
  {
   "cell_type": "code",
   "execution_count": 37,
   "id": "f1cc9456-a96b-498e-b0d4-e48055566bc1",
   "metadata": {},
   "outputs": [
    {
     "name": "stdout",
     "output_type": "stream",
     "text": [
      "Extracted substrings between brackets:\n",
      "                Text Bracket_Content\n",
      "0   This [is] a test              is\n",
      "1  Find [words] here           words\n",
      "2        No brackets             NaN\n"
     ]
    }
   ],
   "source": [
    "# Problem: Extract substrings that are between square brackets (e.g., [content]).\n",
    "\n",
    "# Add sample data with brackets\n",
    "data = {'Text': ['This [is] a test', 'Find [words] here', 'No brackets']}\n",
    "df = pd.DataFrame(data)\n",
    "\n",
    "# Extract substrings between square brackets\n",
    "df['Bracket_Content'] = df['Text'].str.extract(r'\\[(.*?)\\]')\n",
    "\n",
    "# Output the updated DataFrame\n",
    "print(\"Extracted substrings between brackets:\")\n",
    "print(df)\n"
   ]
  },
  {
   "cell_type": "code",
   "execution_count": 38,
   "id": "0a77e556-d0d9-43b9-82db-8807966eb272",
   "metadata": {},
   "outputs": [
    {
     "name": "stdout",
     "output_type": "stream",
     "text": [
      "Count of the word 'test' in each row:\n",
      "                Text Bracket_Content  Test_Count\n",
      "0   This [is] a test              is           1\n",
      "1  Find [words] here           words           0\n",
      "2        No brackets             NaN           0\n"
     ]
    }
   ],
   "source": [
    "# Problem: Count how many times a specific word (e.g., 'test') appears in each row.\n",
    "\n",
    "# Count occurrences of the word 'test'\n",
    "df['Test_Count'] = df['Text'].str.count(r'\\btest\\b')\n",
    "\n",
    "# Output the updated DataFrame\n",
    "print(\"Count of the word 'test' in each row:\")\n",
    "print(df)\n"
   ]
  },
  {
   "cell_type": "code",
   "execution_count": 39,
   "id": "c76197b4-2b9b-41fb-a230-14d3a5e37503",
   "metadata": {},
   "outputs": [
    {
     "name": "stdout",
     "output_type": "stream",
     "text": [
      "Words starting with 'W':\n",
      "                Text Bracket_Content  Test_Count Words_Starting_With_W\n",
      "0   This [is] a test              is           1                    []\n",
      "1  Find [words] here           words           0                    []\n",
      "2        No brackets             NaN           0                    []\n"
     ]
    }
   ],
   "source": [
    "# Problem: Extract all words starting with the letter 'W'.\n",
    "\n",
    "# Extract words starting with 'W'\n",
    "df['Words_Starting_With_W'] = df['Text'].str.findall(r'\\bW\\w*')\n",
    "\n",
    "# Output the updated DataFrame\n",
    "print(\"Words starting with 'W':\")\n",
    "print(df)\n"
   ]
  },
  {
   "cell_type": "code",
   "execution_count": 40,
   "id": "89199a55-b1b0-43db-bc93-cd71f5cff058",
   "metadata": {},
   "outputs": [
    {
     "name": "stdout",
     "output_type": "stream",
     "text": [
      "Split text into words ignoring punctuation:\n",
      "                Text Bracket_Content  Test_Count Words_Starting_With_W  \\\n",
      "0   This [is] a test              is           1                    []   \n",
      "1  Find [words] here           words           0                    []   \n",
      "2        No brackets             NaN           0                    []   \n",
      "\n",
      "           Split_Words  \n",
      "0  [This, is, a, test]  \n",
      "1  [Find, words, here]  \n",
      "2       [No, brackets]  \n"
     ]
    }
   ],
   "source": [
    "# Problem: Split the text into a list of words, ignoring punctuation.\n",
    "\n",
    "# Split text into words ignoring punctuation\n",
    "df['Split_Words'] = df['Text'].str.split(r'[^\\w]+')\n",
    "\n",
    "# Output the updated DataFrame\n",
    "print(\"Split text into words ignoring punctuation:\")\n",
    "print(df)\n"
   ]
  },
  {
   "cell_type": "code",
   "execution_count": 41,
   "id": "59575bba-e814-4369-9915-6e22e5ffc21f",
   "metadata": {},
   "outputs": [
    {
     "name": "stdout",
     "output_type": "stream",
     "text": [
      "Extracted hashtags from text:\n",
      "                  Text             Hashtags\n",
      "0         This is #fun               [#fun]\n",
      "1  #Python is #awesome  [#Python, #awesome]\n",
      "2     No hashtags here                   []\n"
     ]
    }
   ],
   "source": [
    "# Problem: Extract all patterns that look like hashtags (e.g., #example).\n",
    "\n",
    "# Add sample data with hashtags\n",
    "data = {'Text': ['This is #fun', '#Python is #awesome', 'No hashtags here']}\n",
    "df = pd.DataFrame(data)\n",
    "\n",
    "# Extract all hashtags\n",
    "df['Hashtags'] = df['Text'].str.findall(r'#\\w+')\n",
    "\n",
    "# Output the updated DataFrame\n",
    "print(\"Extracted hashtags from text:\")\n",
    "print(df)\n"
   ]
  },
  {
   "cell_type": "code",
   "execution_count": 42,
   "id": "ad7096d6-dc72-4844-b991-dde18b5ba288",
   "metadata": {},
   "outputs": [
    {
     "name": "stdout",
     "output_type": "stream",
     "text": [
      "Replaced hashtags and mentions with placeholders:\n",
      "                  Text             Hashtags           Replaced_Text\n",
      "0         This is #fun               [#fun]       This is <HASHTAG>\n",
      "1  #Python is #awesome  [#Python, #awesome]  <HASHTAG> is <HASHTAG>\n",
      "2     No hashtags here                   []        No hashtags here\n"
     ]
    }
   ],
   "source": [
    "# Problem: Replace all hashtags and mentions (e.g., @user) with placeholders.\n",
    "\n",
    "# Replace hashtags with <HASHTAG> and mentions with <MENTION>\n",
    "df['Replaced_Text'] = df['Text'].str.replace(r'#\\w+', '<HASHTAG>', regex=True).str.replace(r'@\\w+', '<MENTION>', regex=True)\n",
    "\n",
    "# Output the updated DataFrame\n",
    "print(\"Replaced hashtags and mentions with placeholders:\")\n",
    "print(df)\n"
   ]
  },
  {
   "cell_type": "code",
   "execution_count": 43,
   "id": "30b9d83b-9708-43d9-9a15-b24bdbb4dce3",
   "metadata": {},
   "outputs": [
    {
     "name": "stdout",
     "output_type": "stream",
     "text": [
      "Extracted email usernames and domains:\n",
      "                  Email   Username       Domain\n",
      "0  john.doe@example.com   john.doe  example.com\n",
      "1  alice123@company.org   alice123  company.org\n",
      "2  test.user@domain.net  test.user   domain.net\n"
     ]
    }
   ],
   "source": [
    "# Problem: Extract email usernames and domains into separate columns using named groups.\n",
    "\n",
    "# Add sample email data\n",
    "data = {'Email': ['john.doe@example.com', 'alice123@company.org', 'test.user@domain.net']}\n",
    "df = pd.DataFrame(data)\n",
    "\n",
    "# Extract email parts using named groups\n",
    "df[['Username', 'Domain']] = df['Email'].str.extract(r'(?P<Username>[\\w.]+)@(?P<Domain>[\\w.-]+)')\n",
    "\n",
    "# Output the updated DataFrame\n",
    "print(\"Extracted email usernames and domains:\")\n",
    "print(df)\n"
   ]
  },
  {
   "cell_type": "code",
   "execution_count": 44,
   "id": "ba2ee908-bc25-4fd2-a643-ca3655f2b701",
   "metadata": {},
   "outputs": [
    {
     "name": "stdout",
     "output_type": "stream",
     "text": [
      "Highlighted specific words:\n",
      "                     Text                Highlighted_Text\n",
      "0  Learning Python is fun  Learning **Python** is **fun**\n",
      "1       Python is amazing           **Python** is amazing\n",
      "2       Regex is powerful               Regex is powerful\n"
     ]
    }
   ],
   "source": [
    "# Problem: Highlight specific words (e.g., 'Python' or 'fun') in a column by wrapping them with `**`.\n",
    "\n",
    "import pandas as pd\n",
    "\n",
    "# Create a DataFrame\n",
    "data = {'Text': ['Learning Python is fun', 'Python is amazing', 'Regex is powerful']}\n",
    "df = pd.DataFrame(data)\n",
    "\n",
    "# Highlight the words 'Python' or 'fun'\n",
    "df['Highlighted_Text'] = df['Text'].str.replace(r'\\b(Python|fun)\\b', r'**\\1**', regex=True)\n",
    "\n",
    "# Output the updated DataFrame\n",
    "print(\"Highlighted specific words:\")\n",
    "print(df)\n"
   ]
  },
  {
   "cell_type": "code",
   "execution_count": 45,
   "id": "6e2f035c-8c61-4ad1-a0b4-81174970e719",
   "metadata": {},
   "outputs": [
    {
     "name": "stdout",
     "output_type": "stream",
     "text": [
      "Extracted email addresses:\n",
      "                                                Text  \\\n",
      "0  Contact us at support@example.com or admin@dom...   \n",
      "1   Send an email to test.user@service.org for help.   \n",
      "2                                     No email here.   \n",
      "\n",
      "                                    Emails  \n",
      "0  [support@example.com, admin@domain.net]  \n",
      "1                  [test.user@service.org]  \n",
      "2                                       []  \n"
     ]
    }
   ],
   "source": [
    "# Problem: Extract all email addresses from a column containing text.\n",
    "\n",
    "# Add sample data with embedded emails\n",
    "data = {'Text': ['Contact us at support@example.com or admin@domain.net.',\n",
    "                 'Send an email to test.user@service.org for help.',\n",
    "                 'No email here.']}\n",
    "df = pd.DataFrame(data)\n",
    "\n",
    "# Extract all email addresses\n",
    "df['Emails'] = df['Text'].str.findall(r'[\\w.]+@[\\w.-]+\\.\\w+')\n",
    "\n",
    "# Output the updated DataFrame\n",
    "print(\"Extracted email addresses:\")\n",
    "print(df)\n"
   ]
  },
  {
   "cell_type": "code",
   "execution_count": 46,
   "id": "51384193-789c-4e40-ba70-cc1eb95f3975",
   "metadata": {},
   "outputs": [
    {
     "name": "stdout",
     "output_type": "stream",
     "text": [
      "Extracted sentences containing 'email':\n",
      "                                      Text                   Email_Sentences\n",
      "0    Send an email to support@example.com.  Send an email to support@example\n",
      "1                 This is a test sentence.                               NaN\n",
      "2  Emails are important for communication.                               NaN\n"
     ]
    }
   ],
   "source": [
    "# Problem: Extract sentences that contain the word 'email'.\n",
    "\n",
    "# Add sample data with multiple sentences\n",
    "data = {'Text': ['Send an email to support@example.com.',\n",
    "                 'This is a test sentence.',\n",
    "                 'Emails are important for communication.']}\n",
    "df = pd.DataFrame(data)\n",
    "\n",
    "# Extract sentences containing the word 'email'\n",
    "df['Email_Sentences'] = df['Text'].str.extract(r'([^\\.]*\\bemail\\b[^\\.]*)', expand=False)\n",
    "\n",
    "# Output the updated DataFrame\n",
    "print(\"Extracted sentences containing 'email':\")\n",
    "print(df)\n"
   ]
  },
  {
   "cell_type": "code",
   "execution_count": 47,
   "id": "e1235013-8167-4e56-8f41-be278a0db8a3",
   "metadata": {},
   "outputs": [
    {
     "name": "stdout",
     "output_type": "stream",
     "text": [
      "Extracted dates:\n",
      "                    Text       Dates\n",
      "0   Event on 2023-01-15.  2023-01-15\n",
      "1  Deadline: 02/20/2023.  02/20/2023\n",
      "2      Date: 15.03.2023.  15.03.2023\n",
      "3          No date here.         NaN\n"
     ]
    }
   ],
   "source": [
    "# Problem: Extract dates in formats like 'YYYY-MM-DD', 'MM/DD/YYYY', or 'DD.MM.YYYY'.\n",
    "\n",
    "# Add sample data with mixed date formats\n",
    "data = {'Text': ['Event on 2023-01-15.', 'Deadline: 02/20/2023.', 'Date: 15.03.2023.', 'No date here.']}\n",
    "df = pd.DataFrame(data)\n",
    "\n",
    "# Extract dates\n",
    "df['Dates'] = df['Text'].str.extract(r'(\\b\\d{4}-\\d{2}-\\d{2}\\b|\\b\\d{2}/\\d{2}/\\d{4}\\b|\\b\\d{2}\\.\\d{2}\\.\\d{4}\\b)')\n",
    "\n",
    "# Output the updated DataFrame\n",
    "print(\"Extracted dates:\")\n",
    "print(df)\n"
   ]
  },
  {
   "cell_type": "code",
   "execution_count": 48,
   "id": "f192225f-7340-49da-9cb0-a89df847e941",
   "metadata": {},
   "outputs": [
    {
     "name": "stdout",
     "output_type": "stream",
     "text": [
      "Masked sensitive data:\n",
      "                                                Text  \\\n",
      "0  Contact: john.doe@example.com, Phone: (123) 45...   \n",
      "1                        Email: alice123@domain.org.   \n",
      "2                            No sensitive data here.   \n",
      "\n",
      "                         Masked_Text  \n",
      "0  Contact: [EMAIL], Phone: [PHONE].  \n",
      "1                    Email: [EMAIL].  \n",
      "2            No sensitive data here.  \n"
     ]
    }
   ],
   "source": [
    "# Problem: Mask sensitive data like email addresses or phone numbers in a column.\n",
    "\n",
    "# Add sample data with sensitive information\n",
    "data = {'Text': ['Contact: john.doe@example.com, Phone: (123) 456-7890.',\n",
    "                 'Email: alice123@domain.org.', \n",
    "                 'No sensitive data here.']}\n",
    "df = pd.DataFrame(data)\n",
    "\n",
    "# Mask sensitive data\n",
    "df['Masked_Text'] = df['Text'].str.replace(r'[\\w.]+@[\\w.-]+\\.\\w+', '[EMAIL]', regex=True) \\\n",
    "                              .str.replace(r'\\(\\d{3}\\) \\d{3}-\\d{4}', '[PHONE]', regex=True)\n",
    "\n",
    "# Output the updated DataFrame\n",
    "print(\"Masked sensitive data:\")\n",
    "print(df)\n"
   ]
  },
  {
   "cell_type": "code",
   "execution_count": 49,
   "id": "320d7b1b-eeb8-4f74-9ad9-2995fbe01932",
   "metadata": {},
   "outputs": [
    {
     "name": "stdout",
     "output_type": "stream",
     "text": [
      "Extracted initials:\n",
      "                  Name Initials\n",
      "0             John Doe       JD\n",
      "1  Alice B. Wonderland      ABW\n",
      "2              Charlie        C\n"
     ]
    }
   ],
   "source": [
    "# Problem: Extract the initials from a full name in a column.\n",
    "\n",
    "# Add sample data with names\n",
    "data = {'Name': ['John Doe', 'Alice B. Wonderland', 'Charlie']}\n",
    "df = pd.DataFrame(data)\n",
    "\n",
    "# Extract initials\n",
    "df['Initials'] = df['Name'].str.extractall(r'\\b(\\w)') \\\n",
    "                           .groupby(level=0)[0].apply(''.join)\n",
    "\n",
    "# Output the updated DataFrame\n",
    "print(\"Extracted initials:\")\n",
    "print(df)\n"
   ]
  },
  {
   "cell_type": "code",
   "execution_count": 50,
   "id": "e2f89ffd-2534-4525-a10f-f8e67aced7f2",
   "metadata": {},
   "outputs": [
    {
     "name": "stdout",
     "output_type": "stream",
     "text": [
      "Non-alphanumeric characters found:\n",
      "                    Text Non_Alphanumeric\n",
      "0          Hello, World!           [,, !]\n",
      "1           Regex is #1!           [#, !]\n",
      "2  No_special*characters              [*]\n"
     ]
    }
   ],
   "source": [
    "# Problem: Identify all non-alphanumeric characters in a column.\n",
    "\n",
    "# Add sample data with mixed characters\n",
    "data = {'Text': ['Hello, World!', 'Regex is #1!', 'No_special*characters']}\n",
    "df = pd.DataFrame(data)\n",
    "\n",
    "# Find non-alphanumeric characters\n",
    "df['Non_Alphanumeric'] = df['Text'].str.findall(r'[^\\w\\s]')\n",
    "\n",
    "# Output the updated DataFrame\n",
    "print(\"Non-alphanumeric characters found:\")\n",
    "print(df)\n"
   ]
  },
  {
   "cell_type": "code",
   "execution_count": 51,
   "id": "b435b4be-066d-4f6d-ae9b-087cded07b87",
   "metadata": {},
   "outputs": [
    {
     "name": "stdout",
     "output_type": "stream",
     "text": [
      "Extracted sequences of digits:\n",
      "                Text        Numbers\n",
      "0         Order12345        [12345]\n",
      "1  ID 67890 and 1234  [67890, 1234]\n",
      "2         No numbers             []\n"
     ]
    }
   ],
   "source": [
    "# Problem: Extract consecutive sequences of digits (e.g., 12345).\n",
    "\n",
    "# Add sample data with numbers\n",
    "data = {'Text': ['Order12345', 'ID 67890 and 1234', 'No numbers']}\n",
    "df = pd.DataFrame(data)\n",
    "\n",
    "# Extract sequences of digits\n",
    "df['Numbers'] = df['Text'].str.findall(r'\\d+')\n",
    "\n",
    "# Output the updated DataFrame\n",
    "print(\"Extracted sequences of digits:\")\n",
    "print(df)\n"
   ]
  },
  {
   "cell_type": "code",
   "execution_count": 52,
   "id": "33a733d0-398d-4c00-aeb4-172d329a27f1",
   "metadata": {},
   "outputs": [
    {
     "name": "stdout",
     "output_type": "stream",
     "text": [
      "Validation of URLs:\n",
      "                  Text  Valid_URL\n",
      "0  https://example.com       True\n",
      "1       www.google.com      False\n",
      "2          invalid-url      False\n",
      "3      http://test.org       True\n"
     ]
    }
   ],
   "source": [
    "# Problem: Validate URLs in a column.\n",
    "\n",
    "# Add sample data with URLs\n",
    "data = {'Text': ['https://example.com', 'www.google.com', 'invalid-url', 'http://test.org']}\n",
    "df = pd.DataFrame(data)\n",
    "\n",
    "# Validate URLs\n",
    "df['Valid_URL'] = df['Text'].str.match(r'^https?://[^\\s/$.?#].[^\\s]*$')\n",
    "\n",
    "# Output the updated DataFrame\n",
    "print(\"Validation of URLs:\")\n",
    "print(df)\n"
   ]
  },
  {
   "cell_type": "code",
   "execution_count": 53,
   "id": "c3eb84ec-8ca0-4d7e-85f4-5d128b58d3b9",
   "metadata": {},
   "outputs": [
    {
     "name": "stdout",
     "output_type": "stream",
     "text": [
      "Extracted standalone hashtags:\n"
     ]
    },
    {
     "data": {
      "text/html": [
       "<div>\n",
       "<style scoped>\n",
       "    .dataframe tbody tr th:only-of-type {\n",
       "        vertical-align: middle;\n",
       "    }\n",
       "\n",
       "    .dataframe tbody tr th {\n",
       "        vertical-align: top;\n",
       "    }\n",
       "\n",
       "    .dataframe thead th {\n",
       "        text-align: right;\n",
       "    }\n",
       "</style>\n",
       "<table border=\"1\" class=\"dataframe\">\n",
       "  <thead>\n",
       "    <tr style=\"text-align: right;\">\n",
       "      <th></th>\n",
       "      <th>Text</th>\n",
       "      <th>Standalone_Hashtags</th>\n",
       "    </tr>\n",
       "  </thead>\n",
       "  <tbody>\n",
       "    <tr>\n",
       "      <th>0</th>\n",
       "      <td>#fun #learning is great</td>\n",
       "      <td>[#fun, #learning]</td>\n",
       "    </tr>\n",
       "    <tr>\n",
       "      <th>1</th>\n",
       "      <td>Code with #Python3 is fun</td>\n",
       "      <td>[#Python3]</td>\n",
       "    </tr>\n",
       "    <tr>\n",
       "      <th>2</th>\n",
       "      <td>This is #coolstuff!</td>\n",
       "      <td>[#coolstuff]</td>\n",
       "    </tr>\n",
       "    <tr>\n",
       "      <th>3</th>\n",
       "      <td>#cool</td>\n",
       "      <td>[#cool]</td>\n",
       "    </tr>\n",
       "  </tbody>\n",
       "</table>\n",
       "</div>"
      ],
      "text/plain": [
       "                        Text Standalone_Hashtags\n",
       "0    #fun #learning is great   [#fun, #learning]\n",
       "1  Code with #Python3 is fun          [#Python3]\n",
       "2        This is #coolstuff!        [#coolstuff]\n",
       "3                      #cool             [#cool]"
      ]
     },
     "execution_count": 53,
     "metadata": {},
     "output_type": "execute_result"
    }
   ],
   "source": [
    "# Problem: Extract hashtags but ensure they are standalone words (not part of a longer string).\n",
    "\n",
    "import pandas as pd\n",
    "\n",
    "# Create a DataFrame with sentences containing hashtags\n",
    "data = {'Text': ['#fun #learning is great', 'Code with #Python3 is fun', 'This is #coolstuff!','#cool']}\n",
    "df = pd.DataFrame(data)\n",
    "\n",
    "# Extract standalone hashtags\n",
    "df['Standalone_Hashtags'] = df['Text'].str.findall(r'#\\w+')\n",
    "\n",
    "# Output the updated DataFrame\n",
    "print(\"Extracted standalone hashtags:\")\n",
    "df\n"
   ]
  },
  {
   "cell_type": "code",
   "execution_count": null,
   "id": "5a491395-358b-4235-9fbc-300a5d4f01a5",
   "metadata": {},
   "outputs": [],
   "source": []
  }
 ],
 "metadata": {
  "kernelspec": {
   "display_name": "Python 3 (ipykernel)",
   "language": "python",
   "name": "python3"
  },
  "language_info": {
   "codemirror_mode": {
    "name": "ipython",
    "version": 3
   },
   "file_extension": ".py",
   "mimetype": "text/x-python",
   "name": "python",
   "nbconvert_exporter": "python",
   "pygments_lexer": "ipython3",
   "version": "3.10.4"
  }
 },
 "nbformat": 4,
 "nbformat_minor": 5
}
