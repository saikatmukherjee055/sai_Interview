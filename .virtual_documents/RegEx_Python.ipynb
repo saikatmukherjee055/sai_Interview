"""
Question: Write a Python program to extract all valid email addresses from a given string.
"""
import re

text = "Contact us at su6+-pp%ort@example.com or sale_s@company.com for assistance."
emails = re.findall(r'[a-zA-Z0-9._%+-]+@[a-zA-Z0-9.-]+\.[a-zA-Z]{2,}', text)

print("Extracted Emails:", emails)


"""
Question: Write a Python program to validate if a given string is a valid 10-digit phone number.
"""
import re

def validate_phone_number(number):
    pattern = r'^\d{10}$'
    return bool(re.match(pattern, number))

phone_numbers = ["1234567890", "123-456-7890", "987654321"]
for num in phone_numbers:
    print(f"{num}: {validate_phone_number(num)}")


"""
Question: Write a Python program to extract dates in the format `YYYY-MM-DD` from a string.
"""
import re

text = "The event is scheduled for 2023-10-25 and 2024-01-01."
dates = re.findall(r'\d{4}-\d{2}-\d{2}', text)

print("Extracted Dates:", dates)


"""
Question: Write a Python program to replace multiple spaces in a string with a single space.
"""
import re

text = "This   is    a   string    with    multiple   spaces."
cleaned_text = re.sub(r'\s+', ' ', text)

print("Cleaned Text:", cleaned_text)


"""
Question: Write a Python program to extract all hashtags from a given string.
"""
import re

text = "This is a #Python #regex example. #LearnPython"
hashtags = re.findall(r'#\w+', text)

print("Extracted Hashtags:", hashtags)


"""
Question: Write a Python program to validate a password. The password must:
- Be at least 8 characters long.
- Contain at least one uppercase letter.
- Contain at least one lowercase letter.
- Contain at least one digit.
- Contain at least one special character (`@$!%*?&`).
"""
import re

def validate_password(password):
    pattern = r'^(?=.*[A-Z])(?=.*[a-z])(?=.*\d)(?=.*[@$!%*?&])[A-Za-z\d@$!%*?&]{8,}$'
    return bool(re.match(pattern, password))

passwords = ["Password1!", "weak", "StrongPass123", "NoSpecialChar123"]
for pwd in passwords:
    print(f"{pwd}: {validate_password(pwd)}")


"""
Question: Write a Python program to extract all URLs from a given string.
"""
import re

text = "Visit https://example.com or http://www.google.com for more info."
urls = re.findall(r'https?://[^\s]+', text)

print("Extracted URLs:", urls)


"""
Question: Write a Python program to split a string by multiple delimiters (e.g., spaces, commas, and semicolons).
"""
import re

text = "apple,banana;orange mango"
words = re.split(r'[ ,;]+', text)

print("Split Words:", words)


"""
Question: Write a Python program to check if a string starts with `abc` and ends with `xyz`.
"""
import re

def match_prefix_suffix(text):
    pattern = r'^abc.*xyz$'
    return bool(re.match(pattern, text))

strings = ["abc123xyz", "abcxyz", "abc123", "123xyz"]
for s in strings:
    print(f"{s}: {match_prefix_suffix(s)}")


"""
Question: Write a Python program to extract all words starting with the letter `P` (case-insensitive) from a string.
"""
import re

text = "Python is a powerful programming language. Perl is also popular."
words = re.findall(r'\bP\w+', text, re.IGNORECASE)

print("Words starting with 'P':", words)


"""
Question: Write a Python program to extract all keys from a nested JSON-like string using regex.
Example Input: '{"name": "John", "address": {"city": "New York", "zip": "10001"}}'
Expected Output: ['name', 'address', 'city', 'zip']
"""
import re

text = '{"name": "John", "address": {"city": "New York", "zip": "10001"}}'
keys = re.findall(r'"(\w+)"\s*:', text)

print("Extracted Keys:", keys)


"""
Question: Write a Python program to validate if a given string is a valid IPv4 address.
A valid IPv4 address consists of four numbers (0-255) separated by dots.
"""
import re

def validate_ipv4(ip):
    pattern = r'^((25[0-5]|2[0-4][0-9]|1[0-9]{2}|[1-9]?[0-9])\.){3}(25[0-5]|2[0-4][0-9]|1[0-9]{2}|[1-9]?[0-9])$'
    return bool(re.match(pattern, ip))

ips = ["192.168.1.1", "256.1.1.1", "127.0.0.1", "0.0.0.0"]
for ip in ips:
    print(f"{ip}: {validate_ipv4(ip)}")


"""
Question: Write a Python program to extract all numbers with units (e.g., 10kg, 5.5m, 100USD) from a string.
"""
import re

text = "I bought 10kg of rice, 5.5m of cloth, and paid 100USD."
matches = re.findall(r'\d+\.?\d*\s*(?:kg|m|USD)', text)

print("Extracted Numbers with Units:", matches)


"""
Question: Write a Python program to validate if a given string is a valid Roman numeral.
Roman numerals are represented by the following characters: I, V, X, L, C, D, M.
"""
import re

def validate_roman_numeral(roman):
    pattern = r'^M{0,3}(CM|CD|D?C{0,3})(XC|XL|L?X{0,3})(IX|IV|V?I{0,3})$'
    return bool(re.match(pattern, roman))

numerals = ["XII", "MMXXIII", "IIII", "MCMLXXXIV", "ABC"]
for numeral in numerals:
    print(f"{numeral}: {validate_roman_numeral(numeral)}")


"""
Question: Write a Python program to extract all nested HTML tags from a string.
Example Input: '<div><p>Hello</p><span>World</span></div>'
Expected Output: ['<div>', '<p>', '</p>', '<span>', '</span>', '</div>']
"""
import re

text = '<div><p>Hello</p><span>World</span></div>'
tags = re.findall(r'<[^>]+>', text)

print("Extracted HTML Tags:", tags)


"""
Question: Write a Python program to validate if a given string is a valid credit card number.
A valid credit card number must:
- Start with 4, 5, or 6.
- Be 16 digits long.
- May have hyphens after every 4 digits.
"""
import re

def validate_credit_card(number):
    pattern = r'^[456]\d{3}(-?\d{4}){3}$'
    return bool(re.match(pattern, number)) and len(number.replace("-", "")) == 16

cards = ["4123456789123456", "5123-4567-8912-3456", "61234-567-8912-3456", "4123356789123456"]
for card in cards:
    print(f"{card}: {validate_credit_card(card)}")


"""
Question: Write a Python program to extract all words from a string that contain all vowels (a, e, i, o, u) exactly once.
"""
import re

text = "The quick brown fox jumps over the lazy dog. A eulogy for the unique."
words = re.findall(r'\b\w+\b', text)
result = [word for word in words if len(set(re.findall(r'[aeiou]', word.lower()))) == 5]

print("Words with all vowels exactly once:", result)


"""
Question: Write a Python program to validate if a given string is a valid MAC address.
A valid MAC address consists of 6 pairs of hexadecimal digits separated by colons or hyphens.
"""
import re

def validate_mac_address(mac):
    pattern = r'^([0-9A-Fa-f]{2}[:-]){5}([0-9A-Fa-f]{2})$'
    return bool(re.match(pattern, mac))

macs = ["00:1A:2B:3C:4D:5E", "00-1A-2B-3C-4D-5E", "001A2B3C4D5E", "00:1A:2B:3C:4D:5G"]
for mac in macs:
    print(f"{mac}: {validate_mac_address(mac)}")


"""
Question: Write a Python program to extract all valid mathematical expressions (e.g., 10+5, 3.14*2) from a string.
"""
import re

text = "Calculate 10+5 and 3.14*2. Also, 100/0 is invalid."
expressions = re.findall(r'\d+\.?\d*\s*[\+\-\*/]\s*\d+\.?\d*', text)

print("Extracted Mathematical Expressions:", expressions)


"""
Question: Write a Python program to validate if a given string is a valid URL with query parameters.
A valid URL must start with http or https and contain query parameters (e.g., ?key=value).
"""
import re

def validate_url(url):
    pattern = r'^https?://[^\s]+?\?[^\s]+$'
    return bool(re.match(pattern, url))

urls = [
    "https://example.com?name=John",
    "http://example.com",
    "ftp://example.com?query=test",
    "https://example.com/path?key=value"
]
for url in urls:
    print(f"{url}: {validate_url(url)}")


import re

text = "This is an important announcement about an important topic."
pattern = r'\bimportant\b'

highlighted_text = re.sub(pattern, '**important**', text)
print(highlighted_text)
# Output: This is an **important** announcement about an **important** topic.



import re

password = "StrongP@ss123"
pattern = r'^(?=.*[A-Z])(?=.*[a-z])(?=.*\d)(?=.*[@$!%*?&])[A-Za-z\d@$!%*?&]{8,}$'

if re.match(pattern, password):
    print("Strong password")  # Output: Strong password
else:
    print("Weak password")



import re

text = "Count the number of words in this sentence."
pattern = r'\b\w+\b'

words = re.findall(pattern, text)
print(len(words))  # Output: 8



import re

urls = ["https://example.com", "http://test.org", "www.website.net"]
pattern = r'https?://(?:www\.)?([\w.-]+)|www\.([\w.-]+)'

domains = [match[0] or match[1] for match in re.findall(pattern, " ".join(urls))]
print(domains)  # Output: ['example.com', 'test.org', 'website.net']



import re

text = "ABABABAB"
pattern = r'(?=(AB))'

matches = re.findall(pattern, text)
print(matches)  # Output: ['AB', 'AB', 'AB', 'AB']



import re

text = "Hello @World! This is a test #123."
pattern = r'[^a-zA-Z0-9 ]'

clean_text = re.sub(pattern, '', text)
print(clean_text)  # Output: Hello World This is a test 123



import re

text = "Hello everyone, Welcome to the World"
pattern = r'^Hello.*World$'

if re.match(pattern, text):
    print("Matched")  # Output: Matched
else:
    print("Not matched")



import re

text = "Today's date is 27-01-2025 and tomorrow's date is 28/01/2025."
pattern = r'\b\d{2}[-/]\d{2}[-/]\d{4}\b'

dates = re.findall(pattern, text)
print(dates)  # Output: ['27-01-2025', '28/01/2025']



import re

text = "apple, orange; banana grape"
pattern = r'[;, ]+'

fruits = re.split(pattern, text)
print(fruits)  # Output: ['apple', 'orange', 'banana', 'grape']



import re

text = "Loving the weather today! #sunny #beautifulday #happy"
pattern = r'#\w+'

hashtags = re.findall(pattern, text)
print(hashtags)  # Output: ['#sunny', '#beautifulday', '#happy']



import re

phone = "(123)-456-7890"
pattern = r'^(\(\d{3}\)|\d{3})[- ]?\d{3}[- ]?\d{4}$'

match = re.match(pattern, phone)
if match:
    print("Valid phone number")  # Output: Valid phone number
else:
    print("Invalid phone number")



import re

text = "Contact us at support@example.com or sales@company.org for more details."
pattern = r'[a-zA-Z0-9._%+-]+@[a-zA-Z0-9.-]+\.[a-zA-Z]{2,}'

emails = re.findall(pattern, text)
print(emails)  # Output: ['support@example.com', 'sales@company.org']



"""
Question: Write a Python program to extract all palindromic words from a string using regex.
A palindromic word reads the same backward as forward (e.g., "madam").
"""
import re

text = "Madam, in Eden, I'm Adam. Racecar is a palindrome."
words = re.findall(r'\b\w+\b', text)
palindromes = [word for word in words if word.lower() == word.lower()[::-1]]

print("Palindromic Words:", palindromes)


"""
Question: Write a Python program to extract all repeated words from a string using regex.
Example Input: "The quick brown fox jumps over the lazy dog. The dog was not amused."
Expected Output: ['the', 'dog']
"""
import re
from collections import Counter

text = "The quick brown fox jumps over the lazy dog. The dog was not amused."
words = re.findall(r'\b\w+\b', text.lower())
repeated_words = [word for word, count in Counter(words).items() if count > 1]

print("Repeated Words:", repeated_words)


"""
Question: Write a Python program to extract all words where vowels and consonants alternate.
Example Input: "Apple banana grapefruit kiwi mango"
Expected Output: ['banana', 'kiwi']
"""
import re

text = "Apple banana grapefruit kiwi mango"
words = re.findall(r'\b\w+\b', text)
result = [word for word in words if re.match(r'^([aeiou][^aeiou])+[aeiou]?$', word.lower()) or
          re.match(r'^([^aeiou][aeiou])+[^aeiou]?$', word.lower())]

print("Words with Alternating Vowels and Consonants:", result)


"""
Question: Write a Python program to extract all words containing double letters (e.g., "book" has double 'o').
"""
import re

text = "The bookkeeper found a little apple in the grass."
words = re.findall(r'\b\w*(\w)\1\w*\b', text)

print("Words with Double Letters:", words)


"""
Question: Write a Python program to extract all words where all characters are unique.
Example Input: "Python is a programming language."
Expected Output: ['Python', 'is', 'a']
"""
import re

text = "Python is a programming language."
words = re.findall(r'\b\w+\b', text)
unique_char_words = [word for word in words if len(set(word.lower())) == len(word.lower())]

print("Words with Unique Characters:", unique_char_words)


"""
Question: Write a Python program to extract all words containing the sequence "ing".
"""
import re

text = "Singing and dancing are fun activities."
words = re.findall(r'\b\w*ing\w*\b', text)

print("Words with 'ing':", words)


"""
Question: Write a Python program to extract all words with an equal number of vowels and consonants.
"""
import re

text = "Apple banana grapefruit kiwi mango"
words = re.findall(r'\b\w+\b', text)
result = [word for word in words if len(re.findall(r'[aeiou]', word.lower())) == len(re.findall(r'[^aeiou]', word.lower()))]

print("Words with Equal Vowels and Consonants:", result)


"""
Question: Write a Python program to extract all words starting with "un" and ending with "ing".
"""
import re

text = "Understanding regex is fun and rewarding. Unlocking its potential is key."
words = re.findall(r'\bun\w+ing\b', text)

print("Words starting with 'un' and ending with 'ing':", words)


"""
Question: Write a Python program to extract all words containing the pattern "a.e" (e.g., "cake", "date").
"""
import re

text = "The cake is a lie. The date is set for late April."
words = re.findall(r'\b\w*a.e\w*\b', text)

print("Words with 'a.e' pattern:", words)


"""
Question: Write a Python program to extract all words with exactly 5 letters and 2 vowels.
"""
import re

text = "The quick brown fox jumps over the lazy dog."
words = re.findall(r'\b\w{5}\b', text)
result = [word for word in words if len(re.findall(r'[aeiou]', word.lower())) == 2]

print("5-letter words with 2 vowels:", result)


"""
Question: Write a Python program to extract all words where the letter 'a' appears exactly twice.
"""
import re

text = "Banana is a tropical fruit. Avocado is also a fruit."
words = re.findall(r'\b\w+\b', text)
result = [word for word in words if word.lower().count('a') == 2]

print("Words with exactly 2 'a's:", result)


"""
Question: Write a Python program to extract all words containing "th" and having exactly 5 letters.
"""
import re

text = "The theory of everything is fascinating. This is a thought."
words = re.findall(r'\b\w{5}\b', text)
result = [word for word in words if 'th' in word.lower()]

print("5-letter words containing 'th':", result)


"""
Question: Write a Python program to match a string with exactly 3 vowels and 5 consonants.
Example Input: "abcdefgh" or "aeiouxyz"
Expected Output: True if the string meets the condition, False otherwise.
"""
import re

def is_valid_string(text):
    vowels = len(re.findall(r'[aeiou]', text.lower()))
    consonants = len(re.findall(r'[bcdfghjklmnpqrstvwxyz]', text.lower()))
    return vowels == 3 and consonants == 5

tests = ["abcdefgh", "aeiouxyz", "abcde", "aaaaabbb"]
for test in tests:
    print(f"{test}: {is_valid_string(test)}")


"""
Question: Write a Python program to match a string that is a palindrome of length 5.
Example Input: "abcba" or "12321"
Expected Output: True if the string is a 5-character palindrome, False otherwise.
"""
import re

def is_palindrome(text):
    pattern = r'^(.)(.)(.)\2\1$'
    return bool(re.match(pattern, text))

tests = ["abcba", "12321", "abccba", "12345"]
for test in tests:
    print(f"{test}: {is_palindrome(test)}")



