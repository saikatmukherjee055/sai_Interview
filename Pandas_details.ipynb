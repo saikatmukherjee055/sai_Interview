{
 "cells": [
  {
   "cell_type": "code",
   "execution_count": 1,
   "id": "a5dbcf26-814b-41b2-b946-8f06b6e31251",
   "metadata": {},
   "outputs": [],
   "source": [
    "import pandas as pd\n",
    "import numpy as np\n",
    "import os\n",
    "import warnings\n",
    "warnings.filterwarnings(\"ignore\")"
   ]
  },
  {
   "cell_type": "code",
   "execution_count": 2,
   "id": "30a18339-c3f7-4fad-9890-0674f0a7e68d",
   "metadata": {},
   "outputs": [
    {
     "name": "stdout",
     "output_type": "stream",
     "text": [
      "DataFrame created from dictionary:\n",
      "    Name  Age\n",
      "0  Alice   25\n",
      "1    Bob   30\n"
     ]
    }
   ],
   "source": [
    "import pandas as pd\n",
    "\n",
    "# Question: Create a DataFrame from the dictionary {\"Name\": [\"Alice\", \"Bob\"], \"Age\": [25, 30]}.\n",
    "data = {\"Name\": [\"Alice\", \"Bob\"], \"Age\": [25, 30]}\n",
    "df = pd.DataFrame(data)\n",
    "print(\"DataFrame created from dictionary:\\n\", df)\n"
   ]
  },
  {
   "cell_type": "code",
   "execution_count": 3,
   "id": "7606c35e-f51e-4751-bf79-90c05ea91a86",
   "metadata": {},
   "outputs": [
    {
     "name": "stdout",
     "output_type": "stream",
     "text": [
      "Original DataFrame:\n",
      "       Name   Age\n",
      "0    Alice  25.0\n",
      "1     None  30.0\n",
      "2  Charlie   NaN\n",
      "\n",
      "Missing values in the DataFrame:\n",
      "     Name    Age\n",
      "0  False  False\n",
      "1   True  False\n",
      "2  False   True\n",
      "\n",
      "Total missing values per column:\n",
      " Name    1\n",
      "Age     1\n",
      "dtype: int64\n"
     ]
    }
   ],
   "source": [
    "# Question: Check for missing values in the DataFrame.\n",
    "df_missing = pd.DataFrame({\"Name\": [\"Alice\", None, \"Charlie\"], \"Age\": [25, 30, None]})\n",
    "print(\"Original DataFrame:\\n\", df_missing)\n",
    "print(\"\\nMissing values in the DataFrame:\\n\", df_missing.isnull())\n",
    "print(\"\\nTotal missing values per column:\\n\", df_missing.isnull().sum())\n"
   ]
  },
  {
   "cell_type": "code",
   "execution_count": 4,
   "id": "278d0340-0c78-4b22-a345-a17d44ff944e",
   "metadata": {},
   "outputs": [
    {
     "name": "stdout",
     "output_type": "stream",
     "text": [
      "DataFrame after dropping missing values:\n",
      "     Name   Age\n",
      "0  Alice  25.0\n"
     ]
    }
   ],
   "source": [
    "# Question: Drop rows containing missing values.\n",
    "df_dropped = df_missing.dropna()\n",
    "print(\"DataFrame after dropping missing values:\\n\", df_dropped)\n"
   ]
  },
  {
   "cell_type": "code",
   "execution_count": 5,
   "id": "8460f40d-d17b-4e59-87dc-630b29db4de8",
   "metadata": {},
   "outputs": [
    {
     "name": "stdout",
     "output_type": "stream",
     "text": [
      "DataFrame after filling missing values with the mean:\n",
      "       Name   Age\n",
      "0    Alice  25.0\n",
      "1     None  30.0\n",
      "2  Charlie  27.5\n"
     ]
    }
   ],
   "source": [
    "# Question: Fill missing values in the \"Age\" column with the mean.\n",
    "df_missing[\"Age\"].fillna(df_missing[\"Age\"].mean(), inplace=True)\n",
    "print(\"DataFrame after filling missing values with the mean:\\n\", df_missing)\n"
   ]
  },
  {
   "cell_type": "code",
   "execution_count": 6,
   "id": "cbeac999-eaa4-476f-a190-e6b7950f5529",
   "metadata": {},
   "outputs": [
    {
     "name": "stdout",
     "output_type": "stream",
     "text": [
      "Selected column (Name):\n",
      " 0      Alice\n",
      "1       None\n",
      "2    Charlie\n",
      "Name: Name, dtype: object\n"
     ]
    }
   ],
   "source": [
    "# Question: Select the \"Name\" column from the DataFrame.\n",
    "selected_column = df_missing[\"Name\"]\n",
    "print(\"Selected column (Name):\\n\", selected_column)\n"
   ]
  },
  {
   "cell_type": "code",
   "execution_count": 7,
   "id": "611b67c1-b1ef-444e-84fc-fafe68c282ed",
   "metadata": {},
   "outputs": [
    {
     "name": "stdout",
     "output_type": "stream",
     "text": [
      "Rows where Age > 25:\n",
      "       Name   Age\n",
      "1     None  30.0\n",
      "2  Charlie  27.5\n"
     ]
    }
   ],
   "source": [
    "# Question: Select rows where Age > 25.\n",
    "filtered_rows = df_missing[df_missing[\"Age\"] > 25]\n",
    "print(\"Rows where Age > 25:\\n\", filtered_rows)\n"
   ]
  },
  {
   "cell_type": "code",
   "execution_count": 8,
   "id": "66ab3206-6708-4102-9f75-72b6f1e76067",
   "metadata": {},
   "outputs": [
    {
     "name": "stdout",
     "output_type": "stream",
     "text": [
      "DataFrame sorted by Age:\n",
      "       Name   Age\n",
      "0    Alice  25.0\n",
      "2  Charlie  27.5\n",
      "1     None  30.0\n"
     ]
    }
   ],
   "source": [
    "# Question: Sort the DataFrame by \"Age\" in ascending order.\n",
    "sorted_df = df_missing.sort_values(by=\"Age\")\n",
    "print(\"DataFrame sorted by Age:\\n\", sorted_df)\n"
   ]
  },
  {
   "cell_type": "code",
   "execution_count": 9,
   "id": "d0dae86a-9262-4a6f-b5f1-f38ac2d2f181",
   "metadata": {},
   "outputs": [
    {
     "name": "stdout",
     "output_type": "stream",
     "text": [
      "DataFrame after resetting index:\n",
      "       Name   Age\n",
      "0    Alice  25.0\n",
      "1  Charlie  27.5\n",
      "2     None  30.0\n"
     ]
    }
   ],
   "source": [
    "# Question: Reset the index of the sorted DataFrame.\n",
    "reset_index_df = sorted_df.reset_index(drop=True)\n",
    "print(\"DataFrame after resetting index:\\n\", reset_index_df)\n"
   ]
  },
  {
   "cell_type": "code",
   "execution_count": 10,
   "id": "2a965061-3f4c-4ef9-9f52-b91d390a9e4a",
   "metadata": {},
   "outputs": [
    {
     "name": "stdout",
     "output_type": "stream",
     "text": [
      "DataFrame after applying custom function to Age:\n",
      "       Name   Age\n",
      "0    Alice  30.0\n",
      "1     None  35.0\n",
      "2  Charlie  32.5\n"
     ]
    }
   ],
   "source": [
    "# Question: Add 5 to each value in the \"Age\" column.\n",
    "df_missing[\"Age\"] = df_missing[\"Age\"].apply(lambda x: x + 5)\n",
    "print(\"DataFrame after applying custom function to Age:\\n\", df_missing)\n"
   ]
  },
  {
   "cell_type": "code",
   "execution_count": 11,
   "id": "3f39a8bb-9459-4d14-a0a3-8e3ecced64c7",
   "metadata": {},
   "outputs": [
    {
     "name": "stdout",
     "output_type": "stream",
     "text": [
      "Grouped DataFrame with mean Score:\n",
      " Name\n",
      "Alice      81.5\n",
      "Bob        92.0\n",
      "Charlie    90.0\n",
      "Name: Score, dtype: float64\n"
     ]
    }
   ],
   "source": [
    "# Question: Group by \"Name\" and calculate the mean Age.\n",
    "data = {\"Name\": [\"Alice\", \"Bob\", \"Alice\", \"Charlie\"], \"Score\": [85, 92, 78, 90]}\n",
    "df = pd.DataFrame(data)\n",
    "grouped_mean = df.groupby(\"Name\")[\"Score\"].mean()\n",
    "print(\"Grouped DataFrame with mean Score:\\n\", grouped_mean)\n"
   ]
  },
  {
   "cell_type": "code",
   "execution_count": 12,
   "id": "5594b9a3-c892-4493-aae3-4f52e99c5a5f",
   "metadata": {},
   "outputs": [
    {
     "name": "stdout",
     "output_type": "stream",
     "text": [
      "Merged DataFrame:\n",
      "    ID   Name  Score\n",
      "0   1  Alice     85\n",
      "1   2    Bob     92\n"
     ]
    }
   ],
   "source": [
    "# Question: Merge df1 and df2 based on the \"ID\" column.\n",
    "df1 = pd.DataFrame({\"ID\": [1, 2], \"Name\": [\"Alice\", \"Bob\"]})\n",
    "df2 = pd.DataFrame({\"ID\": [1, 2], \"Score\": [85, 92]})\n",
    "merged_df = pd.merge(df1, df2, on=\"ID\")\n",
    "print(\"Merged DataFrame:\\n\", merged_df)\n"
   ]
  },
  {
   "cell_type": "code",
   "execution_count": 13,
   "id": "51213357-73c6-469e-aa13-70712bb223ad",
   "metadata": {},
   "outputs": [
    {
     "name": "stdout",
     "output_type": "stream",
     "text": [
      "Concatenated DataFrame:\n",
      "    ID   Name  Score\n",
      "0   1  Alice    NaN\n",
      "1   2    Bob    NaN\n",
      "2   1    NaN   85.0\n",
      "3   2    NaN   92.0\n"
     ]
    }
   ],
   "source": [
    "# Question: Concatenate df1 and df2 along rows.\n",
    "concat_df = pd.concat([df1, df2], axis=0, ignore_index=True)\n",
    "print(\"Concatenated DataFrame:\\n\", concat_df)\n"
   ]
  },
  {
   "cell_type": "code",
   "execution_count": 14,
   "id": "7996a9aa-d003-4e1b-a74b-8b0dccec6993",
   "metadata": {},
   "outputs": [
    {
     "name": "stdout",
     "output_type": "stream",
     "text": [
      "Unique names in the Name column:\n",
      " ['Alice' 'Bob' 'Charlie']\n"
     ]
    }
   ],
   "source": [
    "# Question: Get unique values from the \"Name\" column.\n",
    "unique_names = df[\"Name\"].unique()\n",
    "print(\"Unique names in the Name column:\\n\", unique_names)\n"
   ]
  },
  {
   "cell_type": "code",
   "execution_count": 15,
   "id": "896639b0-671c-4689-9272-4c84b4e1a24c",
   "metadata": {},
   "outputs": [
    {
     "name": "stdout",
     "output_type": "stream",
     "text": [
      "Original DataFrame:\n",
      "     Name  Score\n",
      "0  Alice     85\n",
      "1    Bob     92\n",
      "2  Alice     85\n",
      "\n",
      "DataFrame after dropping duplicates:\n",
      "     Name  Score\n",
      "0  Alice     85\n",
      "1    Bob     92\n"
     ]
    }
   ],
   "source": [
    "# Question: Remove duplicate rows from the DataFrame.\n",
    "df = pd.DataFrame({\"Name\": [\"Alice\", \"Bob\", \"Alice\"], \"Score\": [85, 92, 85]})\n",
    "print(\"Original DataFrame:\\n\", df)\n",
    "df_no_duplicates = df.drop_duplicates()\n",
    "print(\"\\nDataFrame after dropping duplicates:\\n\", df_no_duplicates)\n"
   ]
  },
  {
   "cell_type": "code",
   "execution_count": 16,
   "id": "9bfd36e5-5c80-4ec0-ae44-f8128e3e53b3",
   "metadata": {},
   "outputs": [
    {
     "data": {
      "text/html": [
       "<div>\n",
       "<style scoped>\n",
       "    .dataframe tbody tr th:only-of-type {\n",
       "        vertical-align: middle;\n",
       "    }\n",
       "\n",
       "    .dataframe tbody tr th {\n",
       "        vertical-align: top;\n",
       "    }\n",
       "\n",
       "    .dataframe thead tr th {\n",
       "        text-align: left;\n",
       "    }\n",
       "\n",
       "    .dataframe thead tr:last-of-type th {\n",
       "        text-align: right;\n",
       "    }\n",
       "</style>\n",
       "<table border=\"1\" class=\"dataframe\">\n",
       "  <thead>\n",
       "    <tr>\n",
       "      <th></th>\n",
       "      <th colspan=\"2\" halign=\"left\">sum</th>\n",
       "      <th colspan=\"2\" halign=\"left\">mean</th>\n",
       "    </tr>\n",
       "    <tr>\n",
       "      <th>Subject</th>\n",
       "      <th>Math</th>\n",
       "      <th>Science</th>\n",
       "      <th>Math</th>\n",
       "      <th>Science</th>\n",
       "    </tr>\n",
       "    <tr>\n",
       "      <th>Name</th>\n",
       "      <th></th>\n",
       "      <th></th>\n",
       "      <th></th>\n",
       "      <th></th>\n",
       "    </tr>\n",
       "  </thead>\n",
       "  <tbody>\n",
       "    <tr>\n",
       "      <th>Alice</th>\n",
       "      <td>85</td>\n",
       "      <td>78</td>\n",
       "      <td>85.0</td>\n",
       "      <td>78.0</td>\n",
       "    </tr>\n",
       "    <tr>\n",
       "      <th>Bob</th>\n",
       "      <td>90</td>\n",
       "      <td>92</td>\n",
       "      <td>90.0</td>\n",
       "      <td>92.0</td>\n",
       "    </tr>\n",
       "    <tr>\n",
       "      <th>Charlie</th>\n",
       "      <td>88</td>\n",
       "      <td>80</td>\n",
       "      <td>88.0</td>\n",
       "      <td>80.0</td>\n",
       "    </tr>\n",
       "  </tbody>\n",
       "</table>\n",
       "</div>"
      ],
      "text/plain": [
       "         sum          mean        \n",
       "Subject Math Science  Math Science\n",
       "Name                              \n",
       "Alice     85      78  85.0    78.0\n",
       "Bob       90      92  90.0    92.0\n",
       "Charlie   88      80  88.0    80.0"
      ]
     },
     "execution_count": 16,
     "metadata": {},
     "output_type": "execute_result"
    }
   ],
   "source": [
    "import pandas as pd\n",
    "\n",
    "# Question: Create a pivot table with the sum and mean of \"Score\" grouped by \"Name\" and \"Subject\".\n",
    "data = {\n",
    "    \"Name\": [\"Alice\", \"Bob\", \"Alice\", \"Charlie\", \"Bob\", \"Charlie\"],\n",
    "    \"Subject\": [\"Math\", \"Math\", \"Science\", \"Math\", \"Science\", \"Science\"],\n",
    "    \"Score\": [85, 90, 78, 88, 92, 80],\n",
    "}\n",
    "df = pd.DataFrame(data)\n",
    "\n",
    "# Pivot table with multiple aggregations\n",
    "pivot_table = pd.pivot_table(df, values=\"Score\", index=\"Name\", columns=\"Subject\", aggfunc=[\"sum\", \"mean\"])\n",
    "pivot_table\n"
   ]
  },
  {
   "cell_type": "code",
   "execution_count": 17,
   "id": "42bef645-b335-45b5-9abf-8b562b58b9d5",
   "metadata": {},
   "outputs": [
    {
     "data": {
      "text/html": [
       "<div>\n",
       "<style scoped>\n",
       "    .dataframe tbody tr th:only-of-type {\n",
       "        vertical-align: middle;\n",
       "    }\n",
       "\n",
       "    .dataframe tbody tr th {\n",
       "        vertical-align: top;\n",
       "    }\n",
       "\n",
       "    .dataframe thead th {\n",
       "        text-align: right;\n",
       "    }\n",
       "</style>\n",
       "<table border=\"1\" class=\"dataframe\">\n",
       "  <thead>\n",
       "    <tr style=\"text-align: right;\">\n",
       "      <th></th>\n",
       "      <th>ID</th>\n",
       "      <th>Name</th>\n",
       "      <th>Score</th>\n",
       "    </tr>\n",
       "  </thead>\n",
       "  <tbody>\n",
       "    <tr>\n",
       "      <th>0</th>\n",
       "      <td>1</td>\n",
       "      <td>Alice</td>\n",
       "      <td>85.0</td>\n",
       "    </tr>\n",
       "    <tr>\n",
       "      <th>1</th>\n",
       "      <td>2</td>\n",
       "      <td>Bob</td>\n",
       "      <td>92.0</td>\n",
       "    </tr>\n",
       "    <tr>\n",
       "      <th>2</th>\n",
       "      <td>3</td>\n",
       "      <td>Charlie</td>\n",
       "      <td>0.0</td>\n",
       "    </tr>\n",
       "  </tbody>\n",
       "</table>\n",
       "</div>"
      ],
      "text/plain": [
       "   ID     Name  Score\n",
       "0   1    Alice   85.0\n",
       "1   2      Bob   92.0\n",
       "2   3  Charlie    0.0"
      ]
     },
     "execution_count": 17,
     "metadata": {},
     "output_type": "execute_result"
    }
   ],
   "source": [
    "# Question: Perform a left join and replace missing \"Score\" with 0.\n",
    "df1 = pd.DataFrame({\"ID\": [1, 2, 3], \"Name\": [\"Alice\", \"Bob\", \"Charlie\"]})\n",
    "df2 = pd.DataFrame({\"ID\": [1, 2], \"Score\": [85, 92]})\n",
    "\n",
    "# Left join and filling missing values\n",
    "merged_df = pd.merge(df1, df2, on=\"ID\", how=\"left\")\n",
    "merged_df[\"Score\"].fillna(0, inplace=True)\n",
    "merged_df\n"
   ]
  },
  {
   "cell_type": "code",
   "execution_count": 18,
   "id": "c57a6b14-0d03-4528-9155-8e9d1235c46e",
   "metadata": {},
   "outputs": [
    {
     "data": {
      "text/html": [
       "<div>\n",
       "<style scoped>\n",
       "    .dataframe tbody tr th:only-of-type {\n",
       "        vertical-align: middle;\n",
       "    }\n",
       "\n",
       "    .dataframe tbody tr th {\n",
       "        vertical-align: top;\n",
       "    }\n",
       "\n",
       "    .dataframe thead th {\n",
       "        text-align: right;\n",
       "    }\n",
       "</style>\n",
       "<table border=\"1\" class=\"dataframe\">\n",
       "  <thead>\n",
       "    <tr style=\"text-align: right;\">\n",
       "      <th></th>\n",
       "      <th>Name</th>\n",
       "      <th>Subject</th>\n",
       "      <th>Score</th>\n",
       "      <th>Normalized_Score</th>\n",
       "    </tr>\n",
       "  </thead>\n",
       "  <tbody>\n",
       "    <tr>\n",
       "      <th>0</th>\n",
       "      <td>Alice</td>\n",
       "      <td>Math</td>\n",
       "      <td>85</td>\n",
       "      <td>-1.059626</td>\n",
       "    </tr>\n",
       "    <tr>\n",
       "      <th>1</th>\n",
       "      <td>Bob</td>\n",
       "      <td>Math</td>\n",
       "      <td>90</td>\n",
       "      <td>0.927173</td>\n",
       "    </tr>\n",
       "    <tr>\n",
       "      <th>2</th>\n",
       "      <td>Alice</td>\n",
       "      <td>Science</td>\n",
       "      <td>78</td>\n",
       "      <td>-0.704361</td>\n",
       "    </tr>\n",
       "    <tr>\n",
       "      <th>3</th>\n",
       "      <td>Charlie</td>\n",
       "      <td>Math</td>\n",
       "      <td>88</td>\n",
       "      <td>0.132453</td>\n",
       "    </tr>\n",
       "    <tr>\n",
       "      <th>4</th>\n",
       "      <td>Bob</td>\n",
       "      <td>Science</td>\n",
       "      <td>92</td>\n",
       "      <td>1.144586</td>\n",
       "    </tr>\n",
       "    <tr>\n",
       "      <th>5</th>\n",
       "      <td>Charlie</td>\n",
       "      <td>Science</td>\n",
       "      <td>80</td>\n",
       "      <td>-0.440225</td>\n",
       "    </tr>\n",
       "  </tbody>\n",
       "</table>\n",
       "</div>"
      ],
      "text/plain": [
       "      Name  Subject  Score  Normalized_Score\n",
       "0    Alice     Math     85         -1.059626\n",
       "1      Bob     Math     90          0.927173\n",
       "2    Alice  Science     78         -0.704361\n",
       "3  Charlie     Math     88          0.132453\n",
       "4      Bob  Science     92          1.144586\n",
       "5  Charlie  Science     80         -0.440225"
      ]
     },
     "execution_count": 18,
     "metadata": {},
     "output_type": "execute_result"
    }
   ],
   "source": [
    "# Question: Add a column showing the normalized Score within each Subject group.\n",
    "df[\"Normalized_Score\"] = df.groupby(\"Subject\")[\"Score\"].transform(lambda x: (x - x.mean()) / x.std())\n",
    "df\n"
   ]
  },
  {
   "cell_type": "code",
   "execution_count": 19,
   "id": "72698452-4da5-4962-9bfa-db0c2d015c78",
   "metadata": {},
   "outputs": [
    {
     "data": {
      "text/html": [
       "<div>\n",
       "<style scoped>\n",
       "    .dataframe tbody tr th:only-of-type {\n",
       "        vertical-align: middle;\n",
       "    }\n",
       "\n",
       "    .dataframe tbody tr th {\n",
       "        vertical-align: top;\n",
       "    }\n",
       "\n",
       "    .dataframe thead th {\n",
       "        text-align: right;\n",
       "    }\n",
       "</style>\n",
       "<table border=\"1\" class=\"dataframe\">\n",
       "  <thead>\n",
       "    <tr style=\"text-align: right;\">\n",
       "      <th></th>\n",
       "      <th>Name</th>\n",
       "      <th>variable</th>\n",
       "      <th>value</th>\n",
       "    </tr>\n",
       "  </thead>\n",
       "  <tbody>\n",
       "    <tr>\n",
       "      <th>0</th>\n",
       "      <td>Alice</td>\n",
       "      <td>Subject</td>\n",
       "      <td>Math</td>\n",
       "    </tr>\n",
       "    <tr>\n",
       "      <th>1</th>\n",
       "      <td>Bob</td>\n",
       "      <td>Subject</td>\n",
       "      <td>Math</td>\n",
       "    </tr>\n",
       "    <tr>\n",
       "      <th>2</th>\n",
       "      <td>Alice</td>\n",
       "      <td>Subject</td>\n",
       "      <td>Science</td>\n",
       "    </tr>\n",
       "    <tr>\n",
       "      <th>3</th>\n",
       "      <td>Charlie</td>\n",
       "      <td>Subject</td>\n",
       "      <td>Math</td>\n",
       "    </tr>\n",
       "    <tr>\n",
       "      <th>4</th>\n",
       "      <td>Bob</td>\n",
       "      <td>Subject</td>\n",
       "      <td>Science</td>\n",
       "    </tr>\n",
       "    <tr>\n",
       "      <th>5</th>\n",
       "      <td>Charlie</td>\n",
       "      <td>Subject</td>\n",
       "      <td>Science</td>\n",
       "    </tr>\n",
       "    <tr>\n",
       "      <th>6</th>\n",
       "      <td>Alice</td>\n",
       "      <td>Score</td>\n",
       "      <td>85</td>\n",
       "    </tr>\n",
       "    <tr>\n",
       "      <th>7</th>\n",
       "      <td>Bob</td>\n",
       "      <td>Score</td>\n",
       "      <td>90</td>\n",
       "    </tr>\n",
       "    <tr>\n",
       "      <th>8</th>\n",
       "      <td>Alice</td>\n",
       "      <td>Score</td>\n",
       "      <td>78</td>\n",
       "    </tr>\n",
       "    <tr>\n",
       "      <th>9</th>\n",
       "      <td>Charlie</td>\n",
       "      <td>Score</td>\n",
       "      <td>88</td>\n",
       "    </tr>\n",
       "    <tr>\n",
       "      <th>10</th>\n",
       "      <td>Bob</td>\n",
       "      <td>Score</td>\n",
       "      <td>92</td>\n",
       "    </tr>\n",
       "    <tr>\n",
       "      <th>11</th>\n",
       "      <td>Charlie</td>\n",
       "      <td>Score</td>\n",
       "      <td>80</td>\n",
       "    </tr>\n",
       "  </tbody>\n",
       "</table>\n",
       "</div>"
      ],
      "text/plain": [
       "       Name variable    value\n",
       "0     Alice  Subject     Math\n",
       "1       Bob  Subject     Math\n",
       "2     Alice  Subject  Science\n",
       "3   Charlie  Subject     Math\n",
       "4       Bob  Subject  Science\n",
       "5   Charlie  Subject  Science\n",
       "6     Alice    Score       85\n",
       "7       Bob    Score       90\n",
       "8     Alice    Score       78\n",
       "9   Charlie    Score       88\n",
       "10      Bob    Score       92\n",
       "11  Charlie    Score       80"
      ]
     },
     "execution_count": 19,
     "metadata": {},
     "output_type": "execute_result"
    }
   ],
   "source": [
    "# Question: Reshape the DataFrame to long format using melt, showing 'Subject' as a variable.\n",
    "melted_df = pd.melt(df, id_vars=[\"Name\"], value_vars=[\"Subject\", \"Score\"])\n",
    "melted_df\n"
   ]
  },
  {
   "cell_type": "code",
   "execution_count": 20,
   "id": "26ebee81-30de-406f-a3af-abe26082ea61",
   "metadata": {},
   "outputs": [
    {
     "name": "stdout",
     "output_type": "stream",
     "text": [
      "DataFrame with ranks by Subject:\n",
      "       Name  Subject  Score  Normalized_Score  Rank\n",
      "0    Alice     Math     85         -1.059626   3.0\n",
      "1      Bob     Math     90          0.927173   1.0\n",
      "2    Alice  Science     78         -0.704361   3.0\n",
      "3  Charlie     Math     88          0.132453   2.0\n",
      "4      Bob  Science     92          1.144586   1.0\n",
      "5  Charlie  Science     80         -0.440225   2.0\n"
     ]
    }
   ],
   "source": [
    "# Question: Rank the scores within each subject in descending order.\n",
    "df[\"Rank\"] = df.groupby(\"Subject\")[\"Score\"].rank(ascending=False)\n",
    "print(\"DataFrame with ranks by Subject:\\n\", df)\n"
   ]
  },
  {
   "cell_type": "code",
   "execution_count": 21,
   "id": "a4541899-326d-463f-8c4e-2871a72e2d33",
   "metadata": {},
   "outputs": [
    {
     "name": "stdout",
     "output_type": "stream",
     "text": [
      "Filtered DataFrame where Name contains 'li':\n",
      "       Name  Subject  Score  Normalized_Score  Rank\n",
      "0    Alice     Math     85         -1.059626   3.0\n",
      "2    Alice  Science     78         -0.704361   3.0\n",
      "3  Charlie     Math     88          0.132453   2.0\n",
      "5  Charlie  Science     80         -0.440225   2.0\n"
     ]
    }
   ],
   "source": [
    "# Question: Filter rows where the \"Name\" contains the substring \"li\".\n",
    "filtered_df = df[df[\"Name\"].str.contains(\"li\", case=False, regex=True)]\n",
    "print(\"Filtered DataFrame where Name contains 'li':\\n\", filtered_df)\n"
   ]
  },
  {
   "cell_type": "code",
   "execution_count": 22,
   "id": "d9440309-7167-40e8-aac9-e6039898e1aa",
   "metadata": {},
   "outputs": [
    {
     "name": "stdout",
     "output_type": "stream",
     "text": [
      "DataFrame with cumulative sum by Subject:\n",
      "       Name  Subject  Score  Normalized_Score  Rank  Cumulative_Sum\n",
      "0    Alice     Math     85         -1.059626   3.0              85\n",
      "1      Bob     Math     90          0.927173   1.0             175\n",
      "2    Alice  Science     78         -0.704361   3.0              78\n",
      "3  Charlie     Math     88          0.132453   2.0             263\n",
      "4      Bob  Science     92          1.144586   1.0             170\n",
      "5  Charlie  Science     80         -0.440225   2.0             250\n"
     ]
    }
   ],
   "source": [
    "# Question: Add a column showing cumulative sum of scores within each Subject group.\n",
    "df[\"Cumulative_Sum\"] = df.groupby(\"Subject\")[\"Score\"].cumsum()\n",
    "print(\"DataFrame with cumulative sum by Subject:\\n\", df)\n"
   ]
  },
  {
   "cell_type": "code",
   "execution_count": 23,
   "id": "39400b40-63e2-4b9e-9c4b-cedef3c51bee",
   "metadata": {},
   "outputs": [
    {
     "name": "stdout",
     "output_type": "stream",
     "text": [
      "DataFrame after removing outliers:\n",
      "       Name  Subject  Score  Normalized_Score  Rank  Cumulative_Sum\n",
      "0    Alice     Math     85         -1.059626   3.0              85\n",
      "1      Bob     Math     90          0.927173   1.0             175\n",
      "2    Alice  Science     78         -0.704361   3.0              78\n",
      "3  Charlie     Math     88          0.132453   2.0             263\n",
      "4      Bob  Science     92          1.144586   1.0             170\n",
      "5  Charlie  Science     80         -0.440225   2.0             250\n"
     ]
    }
   ],
   "source": [
    "# Question: Identify and remove outliers using the IQR method.\n",
    "Q1 = df[\"Score\"].quantile(0.25)\n",
    "Q3 = df[\"Score\"].quantile(0.75)\n",
    "IQR = Q3 - Q1\n",
    "\n",
    "# Define outlier boundaries\n",
    "lower_bound = Q1 - 1.5 * IQR\n",
    "upper_bound = Q3 + 1.5 * IQR\n",
    "\n",
    "# Filter out outliers\n",
    "no_outliers_df = df[(df[\"Score\"] >= lower_bound) & (df[\"Score\"] <= upper_bound)]\n",
    "print(\"DataFrame after removing outliers:\\n\", no_outliers_df)\n"
   ]
  },
  {
   "cell_type": "code",
   "execution_count": 24,
   "id": "5cba236a-a6a9-4bde-99b1-d02aa61a1221",
   "metadata": {},
   "outputs": [
    {
     "name": "stdout",
     "output_type": "stream",
     "text": [
      "DataFrame with Lag and Lead columns:\n",
      "       Name  Subject  Score  Normalized_Score  Rank  Cumulative_Sum  Lag_Score  \\\n",
      "0    Alice     Math     85         -1.059626   3.0              85        NaN   \n",
      "1      Bob     Math     90          0.927173   1.0             175       85.0   \n",
      "2    Alice  Science     78         -0.704361   3.0              78        NaN   \n",
      "3  Charlie     Math     88          0.132453   2.0             263       90.0   \n",
      "4      Bob  Science     92          1.144586   1.0             170       78.0   \n",
      "5  Charlie  Science     80         -0.440225   2.0             250       92.0   \n",
      "\n",
      "   Lead_Score  \n",
      "0        90.0  \n",
      "1        88.0  \n",
      "2        92.0  \n",
      "3         NaN  \n",
      "4        80.0  \n",
      "5         NaN  \n"
     ]
    }
   ],
   "source": [
    "# Question: Create a lag and lead column for scores within each Subject.\n",
    "df[\"Lag_Score\"] = df.groupby(\"Subject\")[\"Score\"].shift(1)\n",
    "df[\"Lead_Score\"] = df.groupby(\"Subject\")[\"Score\"].shift(-1)\n",
    "print(\"DataFrame with Lag and Lead columns:\\n\", df)\n"
   ]
  },
  {
   "cell_type": "code",
   "execution_count": 25,
   "id": "2e56eb41-806e-44b3-a072-37ad9637c4bd",
   "metadata": {},
   "outputs": [
    {
     "name": "stdout",
     "output_type": "stream",
     "text": [
      "Monthly average values:\n",
      "                 Value\n",
      "Date                 \n",
      "2024-01-31  18.166667\n"
     ]
    }
   ],
   "source": [
    "# Question: Resample a time series DataFrame to calculate monthly averages.\n",
    "time_data = {\n",
    "    \"Date\": pd.date_range(\"2024-01-01\", periods=12, freq=\"D\"),\n",
    "    \"Value\": [10, 15, 8, 20, 25, 12, 14, 9, 30, 35, 18, 22],\n",
    "}\n",
    "time_df = pd.DataFrame(time_data)\n",
    "time_df.set_index(\"Date\", inplace=True)\n",
    "\n",
    "# Resample to monthly frequency and calculate mean\n",
    "monthly_avg = time_df.resample(\"M\").mean()\n",
    "print(\"Monthly average values:\\n\", monthly_avg)\n"
   ]
  },
  {
   "cell_type": "code",
   "execution_count": 26,
   "id": "2dde4a4c-90da-4058-8602-1425702128c9",
   "metadata": {},
   "outputs": [
    {
     "data": {
      "text/html": [
       "<div>\n",
       "<style scoped>\n",
       "    .dataframe tbody tr th:only-of-type {\n",
       "        vertical-align: middle;\n",
       "    }\n",
       "\n",
       "    .dataframe tbody tr th {\n",
       "        vertical-align: top;\n",
       "    }\n",
       "\n",
       "    .dataframe thead th {\n",
       "        text-align: right;\n",
       "    }\n",
       "</style>\n",
       "<table border=\"1\" class=\"dataframe\">\n",
       "  <thead>\n",
       "    <tr style=\"text-align: right;\">\n",
       "      <th></th>\n",
       "      <th>Date</th>\n",
       "      <th>Score</th>\n",
       "      <th>3-day Rolling Average</th>\n",
       "    </tr>\n",
       "  </thead>\n",
       "  <tbody>\n",
       "    <tr>\n",
       "      <th>0</th>\n",
       "      <td>2024-01-01</td>\n",
       "      <td>10</td>\n",
       "      <td>NaN</td>\n",
       "    </tr>\n",
       "    <tr>\n",
       "      <th>1</th>\n",
       "      <td>2024-01-02</td>\n",
       "      <td>12</td>\n",
       "      <td>NaN</td>\n",
       "    </tr>\n",
       "    <tr>\n",
       "      <th>2</th>\n",
       "      <td>2024-01-03</td>\n",
       "      <td>15</td>\n",
       "      <td>12.333333</td>\n",
       "    </tr>\n",
       "    <tr>\n",
       "      <th>3</th>\n",
       "      <td>2024-01-04</td>\n",
       "      <td>20</td>\n",
       "      <td>15.666667</td>\n",
       "    </tr>\n",
       "    <tr>\n",
       "      <th>4</th>\n",
       "      <td>2024-01-05</td>\n",
       "      <td>18</td>\n",
       "      <td>17.666667</td>\n",
       "    </tr>\n",
       "    <tr>\n",
       "      <th>5</th>\n",
       "      <td>2024-01-06</td>\n",
       "      <td>25</td>\n",
       "      <td>21.000000</td>\n",
       "    </tr>\n",
       "    <tr>\n",
       "      <th>6</th>\n",
       "      <td>2024-01-07</td>\n",
       "      <td>22</td>\n",
       "      <td>21.666667</td>\n",
       "    </tr>\n",
       "    <tr>\n",
       "      <th>7</th>\n",
       "      <td>2024-01-08</td>\n",
       "      <td>30</td>\n",
       "      <td>25.666667</td>\n",
       "    </tr>\n",
       "    <tr>\n",
       "      <th>8</th>\n",
       "      <td>2024-01-09</td>\n",
       "      <td>35</td>\n",
       "      <td>29.000000</td>\n",
       "    </tr>\n",
       "    <tr>\n",
       "      <th>9</th>\n",
       "      <td>2024-01-10</td>\n",
       "      <td>40</td>\n",
       "      <td>35.000000</td>\n",
       "    </tr>\n",
       "  </tbody>\n",
       "</table>\n",
       "</div>"
      ],
      "text/plain": [
       "        Date  Score  3-day Rolling Average\n",
       "0 2024-01-01     10                    NaN\n",
       "1 2024-01-02     12                    NaN\n",
       "2 2024-01-03     15              12.333333\n",
       "3 2024-01-04     20              15.666667\n",
       "4 2024-01-05     18              17.666667\n",
       "5 2024-01-06     25              21.000000\n",
       "6 2024-01-07     22              21.666667\n",
       "7 2024-01-08     30              25.666667\n",
       "8 2024-01-09     35              29.000000\n",
       "9 2024-01-10     40              35.000000"
      ]
     },
     "execution_count": 26,
     "metadata": {},
     "output_type": "execute_result"
    }
   ],
   "source": [
    "import pandas as pd\n",
    "\n",
    "# Question: Calculate a 3-day rolling average of scores.\n",
    "data = {\n",
    "    \"Date\": pd.date_range(start=\"2024-01-01\", periods=10),\n",
    "    \"Score\": [10, 12, 15, 20, 18, 25, 22, 30, 35, 40],\n",
    "}\n",
    "df = pd.DataFrame(data)\n",
    "\n",
    "# Calculate rolling mean with a window size of 3\n",
    "df[\"3-day Rolling Average\"] = df[\"Score\"].rolling(window=3).mean()\n",
    "df\n"
   ]
  },
  {
   "cell_type": "code",
   "execution_count": 27,
   "id": "db5e04e0-215e-4af0-858b-5c15c55106a4",
   "metadata": {},
   "outputs": [
    {
     "name": "stdout",
     "output_type": "stream",
     "text": [
      "DataFrame with Score Difference:\n",
      "         Date  Score  3-day Rolling Average  Score Difference\n",
      "0 2024-01-01     10                    NaN               NaN\n",
      "1 2024-01-02     12                    NaN               2.0\n",
      "2 2024-01-03     15              12.333333               3.0\n",
      "3 2024-01-04     20              15.666667               5.0\n",
      "4 2024-01-05     18              17.666667              -2.0\n",
      "5 2024-01-06     25              21.000000               7.0\n",
      "6 2024-01-07     22              21.666667              -3.0\n",
      "7 2024-01-08     30              25.666667               8.0\n",
      "8 2024-01-09     35              29.000000               5.0\n",
      "9 2024-01-10     40              35.000000               5.0\n"
     ]
    }
   ],
   "source": [
    "# Question: Create a column that shows the difference between the current and previous row's score.\n",
    "df[\"Score Difference\"] = df[\"Score\"].diff()\n",
    "print(\"DataFrame with Score Difference:\\n\", df)\n"
   ]
  },
  {
   "cell_type": "code",
   "execution_count": 28,
   "id": "b5d5e75d-6ac3-4a12-a39b-ec15cca0bbbb",
   "metadata": {},
   "outputs": [
    {
     "name": "stdout",
     "output_type": "stream",
     "text": [
      "Pivoted DataFrame:\n",
      "         Revenue      Profit     \n",
      "Quarter      Q1   Q2     Q1   Q2\n",
      "Year                            \n",
      "2021        200  250     50   70\n",
      "2022        300  350    100  120\n"
     ]
    }
   ],
   "source": [
    "# Question: Pivot the DataFrame with multiple index levels.\n",
    "data = {\n",
    "    \"Year\": [2021, 2021, 2022, 2022],\n",
    "    \"Quarter\": [\"Q1\", \"Q2\", \"Q1\", \"Q2\"],\n",
    "    \"Revenue\": [200, 250, 300, 350],\n",
    "    \"Profit\": [50, 70, 100, 120],\n",
    "}\n",
    "df = pd.DataFrame(data)\n",
    "\n",
    "# Pivot the DataFrame\n",
    "pivoted_df = df.pivot(index=\"Year\", columns=\"Quarter\", values=[\"Revenue\", \"Profit\"])\n",
    "print(\"Pivoted DataFrame:\\n\", pivoted_df)\n"
   ]
  },
  {
   "cell_type": "code",
   "execution_count": 29,
   "id": "ddfdc6ec-6528-4979-90a5-f7fb441be520",
   "metadata": {},
   "outputs": [
    {
     "name": "stdout",
     "output_type": "stream",
     "text": [
      "DataFrame with Revenue-to-Profit Ratio:\n",
      "    Year Quarter  Revenue  Profit  Revenue_to_Profit_Ratio\n",
      "0  2021      Q1      200      50                 4.000000\n",
      "1  2021      Q2      250      70                 3.571429\n",
      "2  2022      Q1      300     100                 3.000000\n",
      "3  2022      Q2      350     120                 2.916667\n"
     ]
    }
   ],
   "source": [
    "# Question: Apply a function to calculate revenue-to-profit ratio for each row.\n",
    "df[\"Revenue_to_Profit_Ratio\"] = df.apply(lambda x: x[\"Revenue\"] / x[\"Profit\"], axis=1)\n",
    "print(\"DataFrame with Revenue-to-Profit Ratio:\\n\", df)\n"
   ]
  },
  {
   "cell_type": "code",
   "execution_count": 30,
   "id": "d4375f4c-9b46-4473-88e4-788339426606",
   "metadata": {},
   "outputs": [
    {
     "name": "stdout",
     "output_type": "stream",
     "text": [
      "Resampled DataFrame with weekly average and missing values filled:\n",
      "             Value\n",
      "Date             \n",
      "2024-01-07  360.0\n",
      "2024-01-14  950.0\n"
     ]
    }
   ],
   "source": [
    "# Question: Resample the time series data to weekly frequency and forward fill missing values.\n",
    "time_data = {\n",
    "    \"Date\": pd.date_range(\"2024-01-01\", periods=10, freq=\"D\"),\n",
    "    \"Value\": [100, 200, 300, None, 500, None, 700, None, 900, 1000],\n",
    "}\n",
    "time_df = pd.DataFrame(time_data)\n",
    "time_df.set_index(\"Date\", inplace=True)\n",
    "\n",
    "# Resample to weekly and fill missing values\n",
    "resampled_df = time_df.resample(\"W\").mean().fillna(method=\"ffill\")\n",
    "print(\"Resampled DataFrame with weekly average and missing values filled:\\n\", resampled_df)\n"
   ]
  },
  {
   "cell_type": "code",
   "execution_count": 31,
   "id": "041b05ee-ca22-43cb-8945-7c731c593225",
   "metadata": {},
   "outputs": [
    {
     "name": "stdout",
     "output_type": "stream",
     "text": [
      "Cross-tabulation of departments and genders:\n",
      " Gender      Female  Male\n",
      "Department              \n",
      "HR               1     1\n",
      "IT               1     1\n",
      "Sales            1     1\n"
     ]
    }
   ],
   "source": [
    "# Question: Create a cross-tabulation of the number of employees by department and gender.\n",
    "data = {\n",
    "    \"Department\": [\"Sales\", \"Sales\", \"HR\", \"HR\", \"IT\", \"IT\"],\n",
    "    \"Gender\": [\"Male\", \"Female\", \"Female\", \"Male\", \"Male\", \"Female\"],\n",
    "}\n",
    "df = pd.DataFrame(data)\n",
    "\n",
    "# Create cross-tabulation\n",
    "cross_tab = pd.crosstab(df[\"Department\"], df[\"Gender\"])\n",
    "print(\"Cross-tabulation of departments and genders:\\n\", cross_tab)\n"
   ]
  },
  {
   "cell_type": "code",
   "execution_count": 32,
   "id": "fcc70cf5-6385-475b-9d45-a7efccadc5c1",
   "metadata": {},
   "outputs": [
    {
     "name": "stdout",
     "output_type": "stream",
     "text": [
      "Percentage contribution of each department:\n",
      " Department\n",
      "Sales    33.333333\n",
      "HR       33.333333\n",
      "IT       33.333333\n",
      "Name: proportion, dtype: float64\n"
     ]
    }
   ],
   "source": [
    "# Question: Calculate the percentage contribution of each department to the total count.\n",
    "department_counts = df[\"Department\"].value_counts(normalize=True) * 100\n",
    "print(\"Percentage contribution of each department:\\n\", department_counts)\n"
   ]
  },
  {
   "cell_type": "code",
   "execution_count": 33,
   "id": "2da92ffb-f61f-47b6-bf69-8788ec4f23fc",
   "metadata": {},
   "outputs": [
    {
     "name": "stdout",
     "output_type": "stream",
     "text": [
      "Merged DataFrame with different keys:\n",
      "    Employee_ID     Name  Emp_ID   Salary\n",
      "0          1.0    Alice     1.0  50000.0\n",
      "1          2.0      Bob     2.0  60000.0\n",
      "2          3.0  Charlie     NaN      NaN\n",
      "3          NaN      NaN     4.0  70000.0\n"
     ]
    }
   ],
   "source": [
    "# Question: Merge two DataFrames with different key columns.\n",
    "df1 = pd.DataFrame({\"Employee_ID\": [1, 2, 3], \"Name\": [\"Alice\", \"Bob\", \"Charlie\"]})\n",
    "df2 = pd.DataFrame({\"Emp_ID\": [1, 2, 4], \"Salary\": [50000, 60000, 70000]})\n",
    "\n",
    "# Merge with different keys\n",
    "merged_df = pd.merge(df1, df2, left_on=\"Employee_ID\", right_on=\"Emp_ID\", how=\"outer\")\n",
    "print(\"Merged DataFrame with different keys:\\n\", merged_df)\n"
   ]
  },
  {
   "cell_type": "code",
   "execution_count": 34,
   "id": "c298c488-5276-4515-89b4-29623dbb2421",
   "metadata": {},
   "outputs": [
    {
     "name": "stdout",
     "output_type": "stream",
     "text": [
      "DataFrame with multi-column ranking:\n",
      "   Employee Department  Salary  Rank\n",
      "0    Alice      Sales   50000   2.0\n",
      "1      Bob         IT   60000   1.0\n",
      "2  Charlie      Sales   55000   1.0\n",
      "3    David         HR   52000   1.0\n"
     ]
    }
   ],
   "source": [
    "# Question: Rank employees based on Salary and Department in descending order.\n",
    "df_salary = pd.DataFrame({\n",
    "    \"Employee\": [\"Alice\", \"Bob\", \"Charlie\", \"David\"],\n",
    "    \"Department\": [\"Sales\", \"IT\", \"Sales\", \"HR\"],\n",
    "    \"Salary\": [50000, 60000, 55000, 52000],\n",
    "})\n",
    "\n",
    "# Ranking based on Salary and Department\n",
    "df_salary[\"Rank\"] = df_salary.groupby(\"Department\")[\"Salary\"].rank(ascending=False)\n",
    "print(\"DataFrame with multi-column ranking:\\n\", df_salary)\n"
   ]
  },
  {
   "cell_type": "code",
   "execution_count": 35,
   "id": "ce0fc310-2097-4c1f-98c1-ac428f8cf3ad",
   "metadata": {},
   "outputs": [
    {
     "name": "stdout",
     "output_type": "stream",
     "text": [
      "Duplicated rows:\n",
      "     Name  Score\n",
      "2  Alice     85\n",
      "\n",
      "Total number of duplicate rows: 1\n"
     ]
    }
   ],
   "source": [
    "# Question: Detect duplicated rows and count them.\n",
    "df_duplicates = pd.DataFrame({\"Name\": [\"Alice\", \"Bob\", \"Alice\", \"Charlie\"], \"Score\": [85, 92, 85, 90]})\n",
    "\n",
    "# Detect duplicates\n",
    "duplicate_rows = df_duplicates[df_duplicates.duplicated()]\n",
    "print(\"Duplicated rows:\\n\", duplicate_rows)\n",
    "print(\"\\nTotal number of duplicate rows:\", duplicate_rows.shape[0])\n"
   ]
  },
  {
   "cell_type": "code",
   "execution_count": 36,
   "id": "fa2a7142-ecde-49c5-b672-5696d09e743d",
   "metadata": {},
   "outputs": [
    {
     "name": "stdout",
     "output_type": "stream",
     "text": [
      "Total salary for employees with salaries > 50,000 by department:\n",
      " Department\n",
      "HR            0\n",
      "IT       130000\n",
      "Sales     55000\n",
      "dtype: int64\n"
     ]
    }
   ],
   "source": [
    "import pandas as pd\n",
    "\n",
    "# Question: Group by \"Department\" and calculate total salary only for employees with salaries > 50,000.\n",
    "data = {\n",
    "    \"Employee\": [\"Alice\", \"Bob\", \"Charlie\", \"David\", \"Eve\"],\n",
    "    \"Department\": [\"Sales\", \"IT\", \"Sales\", \"HR\", \"IT\"],\n",
    "    \"Salary\": [45000, 60000, 55000, 48000, 70000],\n",
    "}\n",
    "df = pd.DataFrame(data)\n",
    "\n",
    "# Conditional aggregation\n",
    "grouped_sum = df.groupby(\"Department\").apply(lambda x: x[x[\"Salary\"] > 50000][\"Salary\"].sum())\n",
    "print(\"Total salary for employees with salaries > 50,000 by department:\\n\", grouped_sum)\n"
   ]
  },
  {
   "cell_type": "code",
   "execution_count": 37,
   "id": "0fa3a25f-2d96-4bf8-b431-ab4784a560ad",
   "metadata": {},
   "outputs": [
    {
     "name": "stdout",
     "output_type": "stream",
     "text": [
      "Multi-indexed DataFrame:\n",
      "                      Salary\n",
      "Department Employee        \n",
      "Sales      Alice      45000\n",
      "IT         Bob        60000\n",
      "Sales      Charlie    55000\n",
      "HR         David      48000\n",
      "IT         Eve        70000\n"
     ]
    }
   ],
   "source": [
    "# Question: Set \"Department\" and \"Employee\" as multi-index and display the DataFrame.\n",
    "multi_index_df = df.set_index([\"Department\", \"Employee\"])\n",
    "print(\"Multi-indexed DataFrame:\\n\", multi_index_df)\n"
   ]
  },
  {
   "cell_type": "code",
   "execution_count": 38,
   "id": "594a92ce-c7b0-4e53-9d4e-7819e4f13274",
   "metadata": {},
   "outputs": [
    {
     "name": "stdout",
     "output_type": "stream",
     "text": [
      "Unstacked DataFrame:\n",
      "              Salary                                    \n",
      "Employee      Alice      Bob  Charlie    David      Eve\n",
      "Department                                             \n",
      "HR              NaN      NaN      NaN  48000.0      NaN\n",
      "IT              NaN  60000.0      NaN      NaN  70000.0\n",
      "Sales       45000.0      NaN  55000.0      NaN      NaN\n"
     ]
    }
   ],
   "source": [
    "# Question: Unstack the multi-index DataFrame to bring \"Employee\" as columns.\n",
    "unstacked_df = multi_index_df.unstack(level=1)\n",
    "print(\"Unstacked DataFrame:\\n\", unstacked_df)\n"
   ]
  },
  {
   "cell_type": "code",
   "execution_count": 39,
   "id": "6a1f97e7-4326-4cef-ac4e-be9210fcfac0",
   "metadata": {},
   "outputs": [
    {
     "name": "stdout",
     "output_type": "stream",
     "text": [
      "DataFrame after linear interpolation:\n",
      "   Employee   Salary\n",
      "0    Alice  45000.0\n",
      "1      Bob  50000.0\n",
      "2  Charlie  55000.0\n"
     ]
    }
   ],
   "source": [
    "# Question: Fill missing values in the salary column using linear interpolation.\n",
    "df_missing = pd.DataFrame({\"Employee\": [\"Alice\", \"Bob\", \"Charlie\"], \"Salary\": [45000, None, 55000]})\n",
    "df_missing[\"Salary\"] = df_missing[\"Salary\"].interpolate(method=\"linear\")\n",
    "print(\"DataFrame after linear interpolation:\\n\", df_missing)\n"
   ]
  },
  {
   "cell_type": "code",
   "execution_count": 40,
   "id": "894eaed4-654e-455c-8e0a-ac6133180c17",
   "metadata": {},
   "outputs": [
    {
     "name": "stdout",
     "output_type": "stream",
     "text": [
      "DataFrame with salary categories:\n",
      "   Employee Department  Salary Salary_Category\n",
      "0    Alice      Sales   45000             Low\n",
      "1      Bob         IT   60000          Medium\n",
      "2  Charlie      Sales   55000          Medium\n",
      "3    David         HR   48000             Low\n",
      "4      Eve         IT   70000            High\n"
     ]
    }
   ],
   "source": [
    "# Question: Bin salaries into categories like \"Low\", \"Medium\", and \"High\".\n",
    "bins = [0, 50000, 60000, 80000]\n",
    "labels = [\"Low\", \"Medium\", \"High\"]\n",
    "df[\"Salary_Category\"] = pd.cut(df[\"Salary\"], bins=bins, labels=labels)\n",
    "print(\"DataFrame with salary categories:\\n\", df)\n"
   ]
  },
  {
   "cell_type": "code",
   "execution_count": 41,
   "id": "99dfefe0-ab4d-4d7e-a7fc-3bc2ab7648ef",
   "metadata": {},
   "outputs": [
    {
     "name": "stdout",
     "output_type": "stream",
     "text": [
      "DataFrame with Position column:\n",
      "   Employee Department  Salary Salary_Category Position\n",
      "0    Alice      Sales   45000             Low   Junior\n",
      "1      Bob         IT   60000          Medium   Junior\n",
      "2  Charlie      Sales   55000          Medium   Junior\n",
      "3    David         HR   48000             Low   Junior\n",
      "4      Eve         IT   70000            High   Senior\n"
     ]
    }
   ],
   "source": [
    "import numpy as np\n",
    "\n",
    "# Question: Create a column that marks employees as \"Senior\" if their salary > 60,000, otherwise \"Junior\".\n",
    "df[\"Position\"] = np.where(df[\"Salary\"] > 60000, \"Senior\", \"Junior\")\n",
    "print(\"DataFrame with Position column:\\n\", df)\n"
   ]
  },
  {
   "cell_type": "code",
   "execution_count": 42,
   "id": "d5df7a02-84d3-4284-9bad-06d10ce329de",
   "metadata": {},
   "outputs": [
    {
     "name": "stdout",
     "output_type": "stream",
     "text": [
      "Outliers in the DataFrame:\n",
      " Empty DataFrame\n",
      "Columns: [Employee, Department, Salary, Salary_Category, Position, Z-Score]\n",
      "Index: []\n"
     ]
    }
   ],
   "source": [
    "from scipy.stats import zscore\n",
    "\n",
    "# Question: Detect rows where the salary is an outlier using z-score.\n",
    "df[\"Z-Score\"] = zscore(df[\"Salary\"])\n",
    "outliers_df = df[df[\"Z-Score\"].abs() > 2]\n",
    "print(\"Outliers in the DataFrame:\\n\", outliers_df)\n"
   ]
  },
  {
   "cell_type": "code",
   "execution_count": 43,
   "id": "4f93cab4-8f3c-4666-9054-db90eb456c9e",
   "metadata": {},
   "outputs": [
    {
     "name": "stdout",
     "output_type": "stream",
     "text": [
      "DataFrame with expanding sum:\n",
      "   Employee Department  Salary Salary_Category Position   Z-Score  \\\n",
      "0    Alice      Sales   45000             Low   Junior -1.189286   \n",
      "1      Bob         IT   60000          Medium   Junior  0.493666   \n",
      "2  Charlie      Sales   55000          Medium   Junior -0.067318   \n",
      "3    David         HR   48000             Low   Junior -0.852696   \n",
      "4      Eve         IT   70000            High   Senior  1.615634   \n",
      "\n",
      "   Expanding_Sum  \n",
      "0        45000.0  \n",
      "1       105000.0  \n",
      "2       160000.0  \n",
      "3       208000.0  \n",
      "4       278000.0  \n"
     ]
    }
   ],
   "source": [
    "# Question: Add an expanding sum column for salaries.\n",
    "df[\"Expanding_Sum\"] = df[\"Salary\"].expanding().sum()\n",
    "print(\"DataFrame with expanding sum:\\n\", df)\n"
   ]
  },
  {
   "cell_type": "code",
   "execution_count": 44,
   "id": "17f67acc-f36b-4133-bdf9-4353cff2e9c5",
   "metadata": {},
   "outputs": [
    {
     "name": "stdout",
     "output_type": "stream",
     "text": [
      "Stacked DataFrame (long format):\n",
      " Department  Employee                 \n",
      "Sales       Alice     Salary                45000\n",
      "                      Salary_Category         Low\n",
      "                      Position             Junior\n",
      "                      Z-Score           -1.189286\n",
      "                      Expanding_Sum       45000.0\n",
      "IT          Bob       Salary                60000\n",
      "                      Salary_Category      Medium\n",
      "                      Position             Junior\n",
      "                      Z-Score            0.493666\n",
      "                      Expanding_Sum      105000.0\n",
      "Sales       Charlie   Salary                55000\n",
      "                      Salary_Category      Medium\n",
      "                      Position             Junior\n",
      "                      Z-Score           -0.067318\n",
      "                      Expanding_Sum      160000.0\n",
      "HR          David     Salary                48000\n",
      "                      Salary_Category         Low\n",
      "                      Position             Junior\n",
      "                      Z-Score           -0.852696\n",
      "                      Expanding_Sum      208000.0\n",
      "IT          Eve       Salary                70000\n",
      "                      Salary_Category        High\n",
      "                      Position             Senior\n",
      "                      Z-Score            1.615634\n",
      "                      Expanding_Sum      278000.0\n",
      "dtype: object\n"
     ]
    }
   ],
   "source": [
    "# Question: Convert the DataFrame into a long format using stack().\n",
    "stacked = df.set_index([\"Department\", \"Employee\"]).stack()\n",
    "print(\"Stacked DataFrame (long format):\\n\", stacked)\n"
   ]
  },
  {
   "cell_type": "code",
   "execution_count": 45,
   "id": "b6c30027-0cf1-44bd-9020-6a0fb1599014",
   "metadata": {},
   "outputs": [
    {
     "name": "stdout",
     "output_type": "stream",
     "text": [
      "Time series data with lagged feature:\n",
      "         Date  Value  Previous_Day_Value\n",
      "0 2024-01-01    100                 NaN\n",
      "1 2024-01-02    200               100.0\n",
      "2 2024-01-03    300               200.0\n",
      "3 2024-01-04    400               300.0\n",
      "4 2024-01-05    500               400.0\n"
     ]
    }
   ],
   "source": [
    "# Question: Create a lagged feature for the \"Value\" column to predict the next day's value.\n",
    "time_series_data = pd.DataFrame({\"Date\": pd.date_range(\"2024-01-01\", periods=5), \"Value\": [100, 200, 300, 400, 500]})\n",
    "time_series_data[\"Previous_Day_Value\"] = time_series_data[\"Value\"].shift(1)\n",
    "print(\"Time series data with lagged feature:\\n\", time_series_data)\n"
   ]
  },
  {
   "cell_type": "code",
   "execution_count": 46,
   "id": "7a42333e-4d42-4f5e-bde6-ff79f5af5d9c",
   "metadata": {},
   "outputs": [
    {
     "name": "stdout",
     "output_type": "stream",
     "text": [
      "Concatenated DataFrame:\n",
      "      A  B    C\n",
      "0  1.0  3  0.0\n",
      "1  2.0  4  0.0\n",
      "0  0.0  5  7.0\n",
      "1  0.0  6  8.0\n"
     ]
    }
   ],
   "source": [
    "# Question: Concatenate two DataFrames with different columns and fill missing values with 0.\n",
    "df1 = pd.DataFrame({\"A\": [1, 2], \"B\": [3, 4]})\n",
    "df2 = pd.DataFrame({\"B\": [5, 6], \"C\": [7, 8]})\n",
    "\n",
    "# Concatenate with axis=0 (rows)\n",
    "concat_df = pd.concat([df1, df2], axis=0, sort=False).fillna(0)\n",
    "print(\"Concatenated DataFrame:\\n\", concat_df)\n"
   ]
  },
  {
   "cell_type": "code",
   "execution_count": 47,
   "id": "c064d256-3a06-4399-b825-b3665ca3e7bd",
   "metadata": {},
   "outputs": [
    {
     "name": "stdout",
     "output_type": "stream",
     "text": [
      "Are the two DataFrames equal?: True\n"
     ]
    }
   ],
   "source": [
    "# Question: Check if two DataFrames are equal.\n",
    "df_a = pd.DataFrame({\"X\": [1, 2, 3], \"Y\": [4, 5, 6]})\n",
    "df_b = pd.DataFrame({\"X\": [1, 2, 3], \"Y\": [4, 5, 6]})\n",
    "are_equal = df_a.equals(df_b)\n",
    "print(\"Are the two DataFrames equal?:\", are_equal)\n"
   ]
  },
  {
   "cell_type": "code",
   "execution_count": null,
   "id": "581f8e45-6212-46fc-8e3c-8d4b0abd7758",
   "metadata": {},
   "outputs": [],
   "source": []
  },
  {
   "cell_type": "code",
   "execution_count": null,
   "id": "c9c9da52-3524-4271-867a-71b5534cabc8",
   "metadata": {},
   "outputs": [],
   "source": []
  },
  {
   "cell_type": "code",
   "execution_count": null,
   "id": "7c02c19e-533a-4185-ae9b-79bde25b0f45",
   "metadata": {},
   "outputs": [],
   "source": []
  },
  {
   "cell_type": "code",
   "execution_count": null,
   "id": "a45a5957-3122-459d-ac01-2f48fc9bfbfe",
   "metadata": {},
   "outputs": [],
   "source": []
  },
  {
   "cell_type": "code",
   "execution_count": null,
   "id": "c149b412-0237-48d4-a6c3-3d34451e2cad",
   "metadata": {},
   "outputs": [],
   "source": []
  }
 ],
 "metadata": {
  "kernelspec": {
   "display_name": "Python 3 (ipykernel)",
   "language": "python",
   "name": "python3"
  },
  "language_info": {
   "codemirror_mode": {
    "name": "ipython",
    "version": 3
   },
   "file_extension": ".py",
   "mimetype": "text/x-python",
   "name": "python",
   "nbconvert_exporter": "python",
   "pygments_lexer": "ipython3",
   "version": "3.10.4"
  }
 },
 "nbformat": 4,
 "nbformat_minor": 5
}
